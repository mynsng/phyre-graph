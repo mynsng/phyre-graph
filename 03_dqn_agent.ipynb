{
 "cells": [
  {
   "cell_type": "code",
   "execution_count": 1,
   "metadata": {},
   "outputs": [],
   "source": [
    "import matplotlib.pyplot as plt\n",
    "import numpy as np\n",
    "import random\n",
    "import phyre\n",
    "import torch\n",
    "import logging\n",
    "mpl_logger = logging.getLogger('matplotlib')\n",
    "mpl_logger.setLevel(logging.WARNING) "
   ]
  },
  {
   "cell_type": "code",
   "execution_count": 2,
   "metadata": {},
   "outputs": [],
   "source": [
    "tier = 'ball'\n",
    "eval_setup = 'ball_within_template'\n",
    "fold_id = 0\n",
    "random.seed(0)"
   ]
  },
  {
   "cell_type": "markdown",
   "metadata": {},
   "source": [
    "### 1. Initialize the  Simulation Cache"
   ]
  },
  {
   "cell_type": "code",
   "execution_count": 3,
   "metadata": {},
   "outputs": [
    {
     "name": "stdout",
     "output_type": "stream",
     "text": [
      "Size of resulting splits:\n",
      " train: 1600 \n",
      " dev: 400 \n",
      " test: 500\n"
     ]
    }
   ],
   "source": [
    "train, dev, test = phyre.get_fold(eval_setup, fold_id)\n",
    "print('Size of resulting splits:\\n train:', len(train), '\\n dev:',\n",
    "      len(dev), '\\n test:', len(test))"
   ]
  },
  {
   "cell_type": "code",
   "execution_count": 4,
   "metadata": {},
   "outputs": [
    {
     "name": "stdout",
     "output_type": "stream",
     "text": [
      "cache.action_array shape: (100000, 3)\n"
     ]
    }
   ],
   "source": [
    "cache = phyre.get_default_100k_cache(tier)\n",
    "print('cache.action_array shape:', cache.action_array.shape)"
   ]
  },
  {
   "cell_type": "markdown",
   "metadata": {},
   "source": [
    "### 2. Initialize the DQN Agent"
   ]
  },
  {
   "cell_type": "code",
   "execution_count": 5,
   "metadata": {},
   "outputs": [
    {
     "name": "stderr",
     "output_type": "stream",
     "text": [
      "DEBUG:root:test\n"
     ]
    }
   ],
   "source": [
    "from dqn import DQNAgent"
   ]
  },
  {
   "cell_type": "code",
   "execution_count": 6,
   "metadata": {},
   "outputs": [],
   "source": [
    "agent = DQNAgent()"
   ]
  },
  {
   "cell_type": "markdown",
   "metadata": {},
   "source": [
    "### Load Model"
   ]
  },
  {
   "cell_type": "code",
   "execution_count": 7,
   "metadata": {},
   "outputs": [],
   "source": [
    "model = agent.build_model()\n",
    "#new_model = TestModel()\n",
    "model.load_state_dict(torch.load(\"./model/32_512_cross.pth\"))\n",
    "state = dict(model =model, cache = cache)"
   ]
  },
  {
   "cell_type": "markdown",
   "metadata": {},
   "source": [
    "### 3. Train the Agent"
   ]
  },
  {
   "cell_type": "code",
   "execution_count": 8,
   "metadata": {},
   "outputs": [
    {
     "name": "stderr",
     "output_type": "stream",
     "text": [
      "INFO:root:Preprocess the training data\n",
      "INFO:root:Train set: size=117005756, solved_ratio=1.71%\n",
      "INFO:root:Create evaluation data from train & dev\n",
      "INFO:root:Start initializing the Model\n",
      "INFO:root:Start Training the Model\n",
      "/home/mynsng/anaconda3/envs/phyre/lib/python3.6/site-packages/torch/nn/_reduction.py:43: UserWarning: size_average and reduce args will be deprecated, please use reduction='none' instead.\n",
      "  warnings.warn(warning.format(ret))\n",
      "DEBUG:root:Iter: 1000, examples: 16000, mean loss: 0.025376, speed: 2.0 batch/sec, lr: 0.000300\n",
      "DEBUG:root:Iter: 2000, examples: 32000, mean loss: 0.013423, speed: 1.9 batch/sec, lr: 0.000300\n",
      "DEBUG:root:Iter: 3000, examples: 48000, mean loss: 0.011611, speed: 1.9 batch/sec, lr: 0.000300\n",
      "DEBUG:root:Iter: 4000, examples: 64000, mean loss: 0.010379, speed: 2.0 batch/sec, lr: 0.000300\n",
      "DEBUG:root:Iter: 5000, examples: 80000, mean loss: 0.009642, speed: 2.1 batch/sec, lr: 0.000300\n",
      "DEBUG:root:Iter: 6000, examples: 96000, mean loss: 0.008833, speed: 2.1 batch/sec, lr: 0.000299\n",
      "DEBUG:root:Iter: 7000, examples: 112000, mean loss: 0.008691, speed: 2.1 batch/sec, lr: 0.000299\n",
      "DEBUG:root:Iter: 8000, examples: 128000, mean loss: 0.007919, speed: 2.1 batch/sec, lr: 0.000299\n",
      "DEBUG:root:Iter: 9000, examples: 144000, mean loss: 0.007667, speed: 2.1 batch/sec, lr: 0.000299\n",
      "DEBUG:root:Iter: 10000, examples: 160000, mean loss: 0.007233, speed: 2.1 batch/sec, lr: 0.000298\n",
      "DEBUG:root:Iter: 11000, examples: 176000, mean loss: 0.007075, speed: 2.1 batch/sec, lr: 0.000298\n",
      "DEBUG:root:Iter: 12000, examples: 192000, mean loss: 0.006986, speed: 2.1 batch/sec, lr: 0.000297\n",
      "DEBUG:root:Iter: 13000, examples: 208000, mean loss: 0.006669, speed: 2.1 batch/sec, lr: 0.000297\n",
      "DEBUG:root:Iter: 14000, examples: 224000, mean loss: 0.006520, speed: 2.1 batch/sec, lr: 0.000296\n",
      "DEBUG:root:Iter: 15000, examples: 240000, mean loss: 0.006385, speed: 2.1 batch/sec, lr: 0.000296\n",
      "DEBUG:root:Iter: 16000, examples: 256000, mean loss: 0.006358, speed: 2.1 batch/sec, lr: 0.000295\n",
      "DEBUG:root:Iter: 17000, examples: 272000, mean loss: 0.005993, speed: 2.1 batch/sec, lr: 0.000295\n",
      "DEBUG:root:Iter: 18000, examples: 288000, mean loss: 0.005934, speed: 2.1 batch/sec, lr: 0.000294\n",
      "DEBUG:root:Iter: 19000, examples: 304000, mean loss: 0.005788, speed: 2.1 batch/sec, lr: 0.000293\n",
      "DEBUG:root:Iter: 20000, examples: 320000, mean loss: 0.005749, speed: 2.1 batch/sec, lr: 0.000293\n",
      "INFO:root:Start eval\n",
      "INFO:root:__log__:{'batch_id': 20000, 'dev_loss': 0.0021795570755784865}\n",
      "DEBUG:root:Iter: 21000, examples: 336000, mean loss: 0.005710, speed: 2.0 batch/sec, lr: 0.000292\n",
      "DEBUG:root:Iter: 22000, examples: 352000, mean loss: 0.005477, speed: 2.1 batch/sec, lr: 0.000291\n",
      "DEBUG:root:Iter: 23000, examples: 368000, mean loss: 0.005464, speed: 2.1 batch/sec, lr: 0.000290\n",
      "DEBUG:root:Iter: 24000, examples: 384000, mean loss: 0.005264, speed: 2.1 batch/sec, lr: 0.000289\n",
      "DEBUG:root:Iter: 25000, examples: 400000, mean loss: 0.005135, speed: 2.1 batch/sec, lr: 0.000289\n",
      "DEBUG:root:Iter: 26000, examples: 416000, mean loss: 0.005093, speed: 2.1 batch/sec, lr: 0.000288\n",
      "DEBUG:root:Iter: 27000, examples: 432000, mean loss: 0.005001, speed: 2.1 batch/sec, lr: 0.000287\n",
      "DEBUG:root:Iter: 28000, examples: 448000, mean loss: 0.004818, speed: 2.1 batch/sec, lr: 0.000286\n",
      "DEBUG:root:Iter: 29000, examples: 464000, mean loss: 0.004933, speed: 2.1 batch/sec, lr: 0.000285\n",
      "DEBUG:root:Iter: 30000, examples: 480000, mean loss: 0.004840, speed: 2.1 batch/sec, lr: 0.000284\n",
      "DEBUG:root:Iter: 31000, examples: 496000, mean loss: 0.004673, speed: 2.1 batch/sec, lr: 0.000283\n",
      "DEBUG:root:Iter: 32000, examples: 512000, mean loss: 0.004683, speed: 2.1 batch/sec, lr: 0.000281\n",
      "DEBUG:root:Iter: 33000, examples: 528000, mean loss: 0.004609, speed: 2.1 batch/sec, lr: 0.000280\n",
      "DEBUG:root:Iter: 34000, examples: 544000, mean loss: 0.004612, speed: 2.1 batch/sec, lr: 0.000279\n",
      "DEBUG:root:Iter: 35000, examples: 560000, mean loss: 0.004429, speed: 2.1 batch/sec, lr: 0.000278\n",
      "DEBUG:root:Iter: 36000, examples: 576000, mean loss: 0.004509, speed: 2.1 batch/sec, lr: 0.000277\n",
      "DEBUG:root:Iter: 37000, examples: 592000, mean loss: 0.004550, speed: 2.1 batch/sec, lr: 0.000275\n",
      "DEBUG:root:Iter: 38000, examples: 608000, mean loss: 0.004324, speed: 2.1 batch/sec, lr: 0.000274\n",
      "DEBUG:root:Iter: 39000, examples: 624000, mean loss: 0.004329, speed: 2.1 batch/sec, lr: 0.000273\n",
      "DEBUG:root:Iter: 40000, examples: 640000, mean loss: 0.004338, speed: 2.1 batch/sec, lr: 0.000271\n",
      "INFO:root:Start eval\n",
      "INFO:root:__log__:{'batch_id': 40000, 'dev_loss': 0.00046623710068161017}\n",
      "DEBUG:root:Iter: 41000, examples: 656000, mean loss: 0.004248, speed: 2.0 batch/sec, lr: 0.000270\n",
      "DEBUG:root:Iter: 42000, examples: 672000, mean loss: 0.004164, speed: 2.1 batch/sec, lr: 0.000269\n",
      "DEBUG:root:Iter: 43000, examples: 688000, mean loss: 0.004344, speed: 2.1 batch/sec, lr: 0.000267\n",
      "DEBUG:root:Iter: 44000, examples: 704000, mean loss: 0.004073, speed: 2.1 batch/sec, lr: 0.000266\n",
      "DEBUG:root:Iter: 45000, examples: 720000, mean loss: 0.003934, speed: 2.1 batch/sec, lr: 0.000264\n",
      "DEBUG:root:Iter: 46000, examples: 736000, mean loss: 0.004046, speed: 2.1 batch/sec, lr: 0.000263\n",
      "DEBUG:root:Iter: 47000, examples: 752000, mean loss: 0.004021, speed: 2.1 batch/sec, lr: 0.000261\n",
      "DEBUG:root:Iter: 48000, examples: 768000, mean loss: 0.004077, speed: 2.1 batch/sec, lr: 0.000259\n",
      "DEBUG:root:Iter: 49000, examples: 784000, mean loss: 0.003877, speed: 2.1 batch/sec, lr: 0.000258\n",
      "DEBUG:root:Iter: 50000, examples: 800000, mean loss: 0.003776, speed: 2.1 batch/sec, lr: 0.000256\n",
      "DEBUG:root:Iter: 51000, examples: 816000, mean loss: 0.003974, speed: 2.1 batch/sec, lr: 0.000254\n",
      "DEBUG:root:Iter: 52000, examples: 832000, mean loss: 0.003800, speed: 2.1 batch/sec, lr: 0.000253\n",
      "DEBUG:root:Iter: 53000, examples: 848000, mean loss: 0.004033, speed: 2.1 batch/sec, lr: 0.000251\n",
      "DEBUG:root:Iter: 54000, examples: 864000, mean loss: 0.003695, speed: 2.1 batch/sec, lr: 0.000249\n",
      "DEBUG:root:Iter: 55000, examples: 880000, mean loss: 0.003830, speed: 2.1 batch/sec, lr: 0.000247\n",
      "DEBUG:root:Iter: 56000, examples: 896000, mean loss: 0.003697, speed: 2.1 batch/sec, lr: 0.000246\n",
      "DEBUG:root:Iter: 57000, examples: 912000, mean loss: 0.003668, speed: 2.1 batch/sec, lr: 0.000244\n",
      "DEBUG:root:Iter: 58000, examples: 928000, mean loss: 0.003706, speed: 2.1 batch/sec, lr: 0.000242\n",
      "DEBUG:root:Iter: 59000, examples: 944000, mean loss: 0.003669, speed: 2.1 batch/sec, lr: 0.000240\n",
      "DEBUG:root:Iter: 60000, examples: 960000, mean loss: 0.003525, speed: 2.1 batch/sec, lr: 0.000238\n",
      "INFO:root:Start eval\n",
      "INFO:root:__log__:{'batch_id': 60000, 'dev_loss': 0.00041948797229451884}\n",
      "DEBUG:root:Iter: 61000, examples: 976000, mean loss: 0.003633, speed: 2.0 batch/sec, lr: 0.000236\n",
      "DEBUG:root:Iter: 62000, examples: 992000, mean loss: 0.003476, speed: 2.0 batch/sec, lr: 0.000234\n",
      "DEBUG:root:Iter: 63000, examples: 1008000, mean loss: 0.003664, speed: 2.0 batch/sec, lr: 0.000232\n",
      "DEBUG:root:Iter: 64000, examples: 1024000, mean loss: 0.003572, speed: 2.0 batch/sec, lr: 0.000230\n",
      "DEBUG:root:Iter: 65000, examples: 1040000, mean loss: 0.003473, speed: 2.0 batch/sec, lr: 0.000228\n",
      "DEBUG:root:Iter: 66000, examples: 1056000, mean loss: 0.003431, speed: 2.0 batch/sec, lr: 0.000226\n",
      "DEBUG:root:Iter: 67000, examples: 1072000, mean loss: 0.003503, speed: 2.0 batch/sec, lr: 0.000224\n",
      "DEBUG:root:Iter: 68000, examples: 1088000, mean loss: 0.003426, speed: 2.0 batch/sec, lr: 0.000222\n",
      "DEBUG:root:Iter: 69000, examples: 1104000, mean loss: 0.003398, speed: 2.1 batch/sec, lr: 0.000220\n",
      "DEBUG:root:Iter: 70000, examples: 1120000, mean loss: 0.003340, speed: 2.1 batch/sec, lr: 0.000218\n",
      "DEBUG:root:Iter: 71000, examples: 1136000, mean loss: 0.003334, speed: 2.1 batch/sec, lr: 0.000216\n",
      "DEBUG:root:Iter: 72000, examples: 1152000, mean loss: 0.003183, speed: 2.1 batch/sec, lr: 0.000214\n",
      "DEBUG:root:Iter: 73000, examples: 1168000, mean loss: 0.003263, speed: 2.1 batch/sec, lr: 0.000212\n",
      "DEBUG:root:Iter: 74000, examples: 1184000, mean loss: 0.003302, speed: 2.0 batch/sec, lr: 0.000210\n",
      "DEBUG:root:Iter: 75000, examples: 1200000, mean loss: 0.003262, speed: 2.1 batch/sec, lr: 0.000207\n",
      "DEBUG:root:Iter: 76000, examples: 1216000, mean loss: 0.003206, speed: 2.0 batch/sec, lr: 0.000205\n",
      "DEBUG:root:Iter: 77000, examples: 1232000, mean loss: 0.003142, speed: 2.1 batch/sec, lr: 0.000203\n",
      "DEBUG:root:Iter: 78000, examples: 1248000, mean loss: 0.003187, speed: 2.1 batch/sec, lr: 0.000201\n",
      "DEBUG:root:Iter: 79000, examples: 1264000, mean loss: 0.003240, speed: 2.1 batch/sec, lr: 0.000199\n",
      "DEBUG:root:Iter: 80000, examples: 1280000, mean loss: 0.003122, speed: 2.1 batch/sec, lr: 0.000196\n",
      "INFO:root:Start eval\n",
      "INFO:root:__log__:{'batch_id': 80000, 'dev_loss': 0.00043097515776935325}\n",
      "DEBUG:root:Iter: 81000, examples: 1296000, mean loss: 0.003134, speed: 2.0 batch/sec, lr: 0.000194\n",
      "DEBUG:root:Iter: 82000, examples: 1312000, mean loss: 0.003033, speed: 2.1 batch/sec, lr: 0.000192\n",
      "DEBUG:root:Iter: 83000, examples: 1328000, mean loss: 0.003067, speed: 2.1 batch/sec, lr: 0.000190\n",
      "DEBUG:root:Iter: 84000, examples: 1344000, mean loss: 0.003039, speed: 2.1 batch/sec, lr: 0.000187\n",
      "DEBUG:root:Iter: 85000, examples: 1360000, mean loss: 0.003029, speed: 2.1 batch/sec, lr: 0.000185\n",
      "DEBUG:root:Iter: 86000, examples: 1376000, mean loss: 0.002960, speed: 2.1 batch/sec, lr: 0.000183\n",
      "DEBUG:root:Iter: 87000, examples: 1392000, mean loss: 0.002785, speed: 2.1 batch/sec, lr: 0.000180\n",
      "DEBUG:root:Iter: 88000, examples: 1408000, mean loss: 0.002960, speed: 2.1 batch/sec, lr: 0.000178\n",
      "DEBUG:root:Iter: 89000, examples: 1424000, mean loss: 0.002937, speed: 2.1 batch/sec, lr: 0.000176\n",
      "DEBUG:root:Iter: 90000, examples: 1440000, mean loss: 0.002861, speed: 2.1 batch/sec, lr: 0.000173\n",
      "DEBUG:root:Iter: 91000, examples: 1456000, mean loss: 0.002844, speed: 2.1 batch/sec, lr: 0.000171\n",
      "DEBUG:root:Iter: 92000, examples: 1472000, mean loss: 0.002929, speed: 2.1 batch/sec, lr: 0.000169\n",
      "DEBUG:root:Iter: 93000, examples: 1488000, mean loss: 0.002766, speed: 2.1 batch/sec, lr: 0.000166\n",
      "DEBUG:root:Iter: 94000, examples: 1504000, mean loss: 0.002755, speed: 2.1 batch/sec, lr: 0.000164\n",
      "DEBUG:root:Iter: 95000, examples: 1520000, mean loss: 0.002847, speed: 2.1 batch/sec, lr: 0.000162\n",
      "DEBUG:root:Iter: 96000, examples: 1536000, mean loss: 0.002843, speed: 2.0 batch/sec, lr: 0.000159\n",
      "DEBUG:root:Iter: 97000, examples: 1552000, mean loss: 0.002781, speed: 2.0 batch/sec, lr: 0.000157\n",
      "DEBUG:root:Iter: 98000, examples: 1568000, mean loss: 0.002694, speed: 2.0 batch/sec, lr: 0.000155\n",
      "DEBUG:root:Iter: 99000, examples: 1584000, mean loss: 0.002828, speed: 2.0 batch/sec, lr: 0.000152\n",
      "DEBUG:root:Iter: 100000, examples: 1600000, mean loss: 0.002721, speed: 2.0 batch/sec, lr: 0.000150\n",
      "INFO:root:Start eval\n",
      "INFO:root:__log__:{'batch_id': 100000, 'dev_loss': 0.0003528389893290296}\n",
      "DEBUG:root:Iter: 101000, examples: 1616000, mean loss: 0.002688, speed: 2.0 batch/sec, lr: 0.000148\n",
      "DEBUG:root:Iter: 102000, examples: 1632000, mean loss: 0.002649, speed: 2.0 batch/sec, lr: 0.000145\n",
      "DEBUG:root:Iter: 103000, examples: 1648000, mean loss: 0.002678, speed: 2.0 batch/sec, lr: 0.000143\n",
      "DEBUG:root:Iter: 104000, examples: 1664000, mean loss: 0.002580, speed: 2.0 batch/sec, lr: 0.000141\n",
      "DEBUG:root:Iter: 105000, examples: 1680000, mean loss: 0.002647, speed: 2.0 batch/sec, lr: 0.000138\n",
      "DEBUG:root:Iter: 106000, examples: 1696000, mean loss: 0.002497, speed: 2.1 batch/sec, lr: 0.000136\n",
      "DEBUG:root:Iter: 107000, examples: 1712000, mean loss: 0.002539, speed: 2.1 batch/sec, lr: 0.000134\n",
      "DEBUG:root:Iter: 108000, examples: 1728000, mean loss: 0.002547, speed: 2.0 batch/sec, lr: 0.000131\n",
      "DEBUG:root:Iter: 109000, examples: 1744000, mean loss: 0.002517, speed: 2.1 batch/sec, lr: 0.000129\n",
      "DEBUG:root:Iter: 110000, examples: 1760000, mean loss: 0.002495, speed: 2.0 batch/sec, lr: 0.000127\n",
      "DEBUG:root:Iter: 111000, examples: 1776000, mean loss: 0.002394, speed: 2.1 batch/sec, lr: 0.000124\n",
      "DEBUG:root:Iter: 112000, examples: 1792000, mean loss: 0.002451, speed: 2.0 batch/sec, lr: 0.000122\n",
      "DEBUG:root:Iter: 113000, examples: 1808000, mean loss: 0.002514, speed: 2.1 batch/sec, lr: 0.000120\n",
      "DEBUG:root:Iter: 114000, examples: 1824000, mean loss: 0.002455, speed: 2.1 batch/sec, lr: 0.000117\n",
      "DEBUG:root:Iter: 115000, examples: 1840000, mean loss: 0.002436, speed: 2.0 batch/sec, lr: 0.000115\n",
      "DEBUG:root:Iter: 116000, examples: 1856000, mean loss: 0.002295, speed: 2.1 batch/sec, lr: 0.000113\n",
      "DEBUG:root:Iter: 117000, examples: 1872000, mean loss: 0.002350, speed: 2.1 batch/sec, lr: 0.000110\n",
      "DEBUG:root:Iter: 118000, examples: 1888000, mean loss: 0.002420, speed: 2.0 batch/sec, lr: 0.000108\n",
      "DEBUG:root:Iter: 119000, examples: 1904000, mean loss: 0.002395, speed: 2.0 batch/sec, lr: 0.000106\n",
      "DEBUG:root:Iter: 120000, examples: 1920000, mean loss: 0.002288, speed: 2.0 batch/sec, lr: 0.000104\n",
      "INFO:root:Start eval\n",
      "INFO:root:__log__:{'batch_id': 120000, 'dev_loss': 0.0003774626566155348}\n",
      "DEBUG:root:Iter: 121000, examples: 1936000, mean loss: 0.002276, speed: 2.0 batch/sec, lr: 0.000101\n",
      "DEBUG:root:Iter: 122000, examples: 1952000, mean loss: 0.002229, speed: 2.1 batch/sec, lr: 0.000099\n",
      "DEBUG:root:Iter: 123000, examples: 1968000, mean loss: 0.002315, speed: 2.0 batch/sec, lr: 0.000097\n",
      "DEBUG:root:Iter: 124000, examples: 1984000, mean loss: 0.002275, speed: 2.1 batch/sec, lr: 0.000095\n",
      "DEBUG:root:Iter: 125000, examples: 2000000, mean loss: 0.002242, speed: 2.0 batch/sec, lr: 0.000093\n",
      "DEBUG:root:Iter: 126000, examples: 2016000, mean loss: 0.002208, speed: 2.0 batch/sec, lr: 0.000090\n",
      "DEBUG:root:Iter: 127000, examples: 2032000, mean loss: 0.002212, speed: 2.1 batch/sec, lr: 0.000088\n",
      "DEBUG:root:Iter: 128000, examples: 2048000, mean loss: 0.002175, speed: 2.0 batch/sec, lr: 0.000086\n",
      "DEBUG:root:Iter: 129000, examples: 2064000, mean loss: 0.002146, speed: 2.1 batch/sec, lr: 0.000084\n",
      "DEBUG:root:Iter: 130000, examples: 2080000, mean loss: 0.002191, speed: 2.0 batch/sec, lr: 0.000082\n",
      "DEBUG:root:Iter: 131000, examples: 2096000, mean loss: 0.002158, speed: 2.1 batch/sec, lr: 0.000080\n",
      "DEBUG:root:Iter: 132000, examples: 2112000, mean loss: 0.002107, speed: 2.0 batch/sec, lr: 0.000078\n",
      "DEBUG:root:Iter: 133000, examples: 2128000, mean loss: 0.002125, speed: 2.0 batch/sec, lr: 0.000076\n",
      "DEBUG:root:Iter: 134000, examples: 2144000, mean loss: 0.002082, speed: 2.0 batch/sec, lr: 0.000074\n",
      "DEBUG:root:Iter: 135000, examples: 2160000, mean loss: 0.002104, speed: 2.1 batch/sec, lr: 0.000072\n",
      "DEBUG:root:Iter: 136000, examples: 2176000, mean loss: 0.001996, speed: 2.0 batch/sec, lr: 0.000070\n",
      "DEBUG:root:Iter: 137000, examples: 2192000, mean loss: 0.002064, speed: 2.1 batch/sec, lr: 0.000068\n",
      "DEBUG:root:Iter: 138000, examples: 2208000, mean loss: 0.002001, speed: 2.1 batch/sec, lr: 0.000066\n",
      "DEBUG:root:Iter: 139000, examples: 2224000, mean loss: 0.001950, speed: 2.0 batch/sec, lr: 0.000064\n",
      "DEBUG:root:Iter: 140000, examples: 2240000, mean loss: 0.002002, speed: 2.0 batch/sec, lr: 0.000062\n",
      "INFO:root:Start eval\n",
      "INFO:root:__log__:{'batch_id': 140000, 'dev_loss': 0.00032437490108350175}\n",
      "DEBUG:root:Iter: 141000, examples: 2256000, mean loss: 0.001956, speed: 2.0 batch/sec, lr: 0.000060\n",
      "DEBUG:root:Iter: 142000, examples: 2272000, mean loss: 0.001989, speed: 2.0 batch/sec, lr: 0.000058\n",
      "DEBUG:root:Iter: 143000, examples: 2288000, mean loss: 0.001949, speed: 2.1 batch/sec, lr: 0.000056\n",
      "DEBUG:root:Iter: 144000, examples: 2304000, mean loss: 0.001897, speed: 2.1 batch/sec, lr: 0.000054\n",
      "DEBUG:root:Iter: 145000, examples: 2320000, mean loss: 0.001981, speed: 2.0 batch/sec, lr: 0.000053\n",
      "DEBUG:root:Iter: 146000, examples: 2336000, mean loss: 0.001918, speed: 2.1 batch/sec, lr: 0.000051\n",
      "DEBUG:root:Iter: 147000, examples: 2352000, mean loss: 0.001829, speed: 2.0 batch/sec, lr: 0.000049\n",
      "DEBUG:root:Iter: 148000, examples: 2368000, mean loss: 0.001872, speed: 2.0 batch/sec, lr: 0.000047\n",
      "DEBUG:root:Iter: 149000, examples: 2384000, mean loss: 0.001826, speed: 2.1 batch/sec, lr: 0.000046\n",
      "DEBUG:root:Iter: 150000, examples: 2400000, mean loss: 0.001903, speed: 2.0 batch/sec, lr: 0.000044\n",
      "DEBUG:root:Iter: 151000, examples: 2416000, mean loss: 0.001765, speed: 2.0 batch/sec, lr: 0.000042\n",
      "DEBUG:root:Iter: 152000, examples: 2432000, mean loss: 0.001839, speed: 2.0 batch/sec, lr: 0.000041\n",
      "DEBUG:root:Iter: 153000, examples: 2448000, mean loss: 0.001819, speed: 2.1 batch/sec, lr: 0.000039\n",
      "DEBUG:root:Iter: 154000, examples: 2464000, mean loss: 0.001790, speed: 2.1 batch/sec, lr: 0.000037\n",
      "DEBUG:root:Iter: 155000, examples: 2480000, mean loss: 0.001808, speed: 2.1 batch/sec, lr: 0.000036\n",
      "DEBUG:root:Iter: 156000, examples: 2496000, mean loss: 0.001820, speed: 2.0 batch/sec, lr: 0.000034\n",
      "DEBUG:root:Iter: 157000, examples: 2512000, mean loss: 0.001784, speed: 2.1 batch/sec, lr: 0.000033\n",
      "DEBUG:root:Iter: 158000, examples: 2528000, mean loss: 0.001829, speed: 2.1 batch/sec, lr: 0.000031\n",
      "DEBUG:root:Iter: 159000, examples: 2544000, mean loss: 0.001772, speed: 2.0 batch/sec, lr: 0.000030\n",
      "DEBUG:root:Iter: 160000, examples: 2560000, mean loss: 0.001729, speed: 2.1 batch/sec, lr: 0.000029\n",
      "INFO:root:Start eval\n",
      "INFO:root:__log__:{'batch_id': 160000, 'dev_loss': 0.0003650149574241368}\n",
      "DEBUG:root:Iter: 161000, examples: 2576000, mean loss: 0.001721, speed: 2.0 batch/sec, lr: 0.000027\n",
      "DEBUG:root:Iter: 162000, examples: 2592000, mean loss: 0.001704, speed: 2.1 batch/sec, lr: 0.000026\n",
      "DEBUG:root:Iter: 163000, examples: 2608000, mean loss: 0.001747, speed: 2.1 batch/sec, lr: 0.000025\n",
      "DEBUG:root:Iter: 164000, examples: 2624000, mean loss: 0.001781, speed: 2.0 batch/sec, lr: 0.000023\n",
      "DEBUG:root:Iter: 165000, examples: 2640000, mean loss: 0.001650, speed: 2.0 batch/sec, lr: 0.000022\n",
      "DEBUG:root:Iter: 166000, examples: 2656000, mean loss: 0.001722, speed: 2.0 batch/sec, lr: 0.000021\n",
      "DEBUG:root:Iter: 167000, examples: 2672000, mean loss: 0.001691, speed: 1.9 batch/sec, lr: 0.000020\n",
      "DEBUG:root:Iter: 168000, examples: 2688000, mean loss: 0.001678, speed: 1.9 batch/sec, lr: 0.000019\n",
      "DEBUG:root:Iter: 169000, examples: 2704000, mean loss: 0.001731, speed: 2.0 batch/sec, lr: 0.000017\n",
      "DEBUG:root:Iter: 170000, examples: 2720000, mean loss: 0.001705, speed: 2.0 batch/sec, lr: 0.000016\n",
      "DEBUG:root:Iter: 171000, examples: 2736000, mean loss: 0.001670, speed: 2.0 batch/sec, lr: 0.000015\n",
      "DEBUG:root:Iter: 172000, examples: 2752000, mean loss: 0.001657, speed: 1.9 batch/sec, lr: 0.000014\n",
      "DEBUG:root:Iter: 173000, examples: 2768000, mean loss: 0.001619, speed: 2.0 batch/sec, lr: 0.000013\n",
      "DEBUG:root:Iter: 174000, examples: 2784000, mean loss: 0.001656, speed: 1.9 batch/sec, lr: 0.000012\n",
      "DEBUG:root:Iter: 175000, examples: 2800000, mean loss: 0.001560, speed: 1.9 batch/sec, lr: 0.000011\n",
      "DEBUG:root:Iter: 176000, examples: 2816000, mean loss: 0.001621, speed: 1.9 batch/sec, lr: 0.000011\n",
      "DEBUG:root:Iter: 177000, examples: 2832000, mean loss: 0.001659, speed: 1.9 batch/sec, lr: 0.000010\n",
      "DEBUG:root:Iter: 178000, examples: 2848000, mean loss: 0.001650, speed: 1.9 batch/sec, lr: 0.000009\n",
      "DEBUG:root:Iter: 179000, examples: 2864000, mean loss: 0.001644, speed: 1.9 batch/sec, lr: 0.000008\n",
      "DEBUG:root:Iter: 180000, examples: 2880000, mean loss: 0.001622, speed: 1.9 batch/sec, lr: 0.000007\n",
      "INFO:root:Start eval\n",
      "INFO:root:__log__:{'batch_id': 180000, 'dev_loss': 0.00031301351828005863}\n",
      "DEBUG:root:Iter: 181000, examples: 2896000, mean loss: 0.001575, speed: 1.8 batch/sec, lr: 0.000007\n",
      "DEBUG:root:Iter: 182000, examples: 2912000, mean loss: 0.001595, speed: 1.9 batch/sec, lr: 0.000006\n",
      "DEBUG:root:Iter: 183000, examples: 2928000, mean loss: 0.001598, speed: 2.0 batch/sec, lr: 0.000005\n",
      "DEBUG:root:Iter: 184000, examples: 2944000, mean loss: 0.001617, speed: 2.0 batch/sec, lr: 0.000005\n",
      "DEBUG:root:Iter: 185000, examples: 2960000, mean loss: 0.001534, speed: 2.0 batch/sec, lr: 0.000004\n",
      "DEBUG:root:Iter: 186000, examples: 2976000, mean loss: 0.001557, speed: 2.0 batch/sec, lr: 0.000004\n",
      "DEBUG:root:Iter: 187000, examples: 2992000, mean loss: 0.001538, speed: 2.0 batch/sec, lr: 0.000003\n",
      "DEBUG:root:Iter: 188000, examples: 3008000, mean loss: 0.001551, speed: 2.0 batch/sec, lr: 0.000003\n",
      "DEBUG:root:Iter: 189000, examples: 3024000, mean loss: 0.001583, speed: 2.0 batch/sec, lr: 0.000002\n",
      "DEBUG:root:Iter: 190000, examples: 3040000, mean loss: 0.001544, speed: 2.0 batch/sec, lr: 0.000002\n",
      "DEBUG:root:Iter: 191000, examples: 3056000, mean loss: 0.001602, speed: 2.0 batch/sec, lr: 0.000001\n",
      "DEBUG:root:Iter: 192000, examples: 3072000, mean loss: 0.001558, speed: 2.0 batch/sec, lr: 0.000001\n",
      "DEBUG:root:Iter: 193000, examples: 3088000, mean loss: 0.001563, speed: 2.0 batch/sec, lr: 0.000001\n",
      "DEBUG:root:Iter: 194000, examples: 3104000, mean loss: 0.001532, speed: 2.0 batch/sec, lr: 0.000001\n",
      "DEBUG:root:Iter: 195000, examples: 3120000, mean loss: 0.001538, speed: 2.0 batch/sec, lr: 0.000000\n",
      "DEBUG:root:Iter: 196000, examples: 3136000, mean loss: 0.001597, speed: 2.0 batch/sec, lr: 0.000000\n",
      "DEBUG:root:Iter: 197000, examples: 3152000, mean loss: 0.001557, speed: 2.0 batch/sec, lr: 0.000000\n",
      "DEBUG:root:Iter: 198000, examples: 3168000, mean loss: 0.001626, speed: 2.0 batch/sec, lr: 0.000000\n",
      "DEBUG:root:Iter: 199000, examples: 3184000, mean loss: 0.001539, speed: 2.0 batch/sec, lr: 0.000000\n",
      "DEBUG:root:Iter: 200000, examples: 3200000, mean loss: 0.001604, speed: 2.0 batch/sec, lr: 0.000000\n",
      "INFO:root:Start eval\n",
      "INFO:root:__log__:{'batch_id': 200000, 'dev_loss': 0.00031401264868691214}\n"
     ]
    }
   ],
   "source": [
    "state, statistic = agent.train(cache, train, tier, test)"
   ]
  },
  {
   "cell_type": "code",
   "execution_count": 13,
   "metadata": {},
   "outputs": [],
   "source": [
    "import pickle"
   ]
  },
  {
   "cell_type": "code",
   "execution_count": 10,
   "metadata": {},
   "outputs": [],
   "source": [
    "#file=open(\"./model/32_512_cross_statistic\",\"wb\") \n",
    "#pickle.dump(statistic,file) \n",
    "#file.close()"
   ]
  },
  {
   "cell_type": "code",
   "execution_count": 14,
   "metadata": {},
   "outputs": [
    {
     "ename": "EOFError",
     "evalue": "Ran out of input",
     "output_type": "error",
     "traceback": [
      "\u001b[0;31m---------------------------------------------------------------------------\u001b[0m",
      "\u001b[0;31mEOFError\u001b[0m                                  Traceback (most recent call last)",
      "\u001b[0;32m<ipython-input-14-4fa933b68878>\u001b[0m in \u001b[0;36m<module>\u001b[0;34m\u001b[0m\n\u001b[1;32m      1\u001b[0m \u001b[0mfile\u001b[0m \u001b[0;34m=\u001b[0m \u001b[0mopen\u001b[0m\u001b[0;34m(\u001b[0m\u001b[0;34m\"./model/32_512_cross_statistic\"\u001b[0m\u001b[0;34m,\u001b[0m\u001b[0;34m\"rb\"\u001b[0m\u001b[0;34m)\u001b[0m\u001b[0;34m\u001b[0m\u001b[0;34m\u001b[0m\u001b[0m\n\u001b[0;32m----> 2\u001b[0;31m \u001b[0mstatistic\u001b[0m \u001b[0;34m=\u001b[0m \u001b[0mpickle\u001b[0m\u001b[0;34m.\u001b[0m\u001b[0mload\u001b[0m\u001b[0;34m(\u001b[0m\u001b[0mfile\u001b[0m\u001b[0;34m)\u001b[0m\u001b[0;34m\u001b[0m\u001b[0;34m\u001b[0m\u001b[0m\n\u001b[0m",
      "\u001b[0;31mEOFError\u001b[0m: Ran out of input"
     ]
    }
   ],
   "source": [
    "file = open(\"./model/32_512_cross_statistic\",\"rb\") \n",
    "statistic = pickle.load(file) \n"
   ]
  },
  {
   "cell_type": "code",
   "execution_count": 12,
   "metadata": {},
   "outputs": [],
   "source": [
    "#content['max_loss']"
   ]
  },
  {
   "cell_type": "code",
   "execution_count": 15,
   "metadata": {},
   "outputs": [
    {
     "ename": "NameError",
     "evalue": "name 'statistic' is not defined",
     "output_type": "error",
     "traceback": [
      "\u001b[0;31m---------------------------------------------------------------------------\u001b[0m",
      "\u001b[0;31mNameError\u001b[0m                                 Traceback (most recent call last)",
      "\u001b[0;32m<ipython-input-15-91aed2e0abc0>\u001b[0m in \u001b[0;36m<module>\u001b[0;34m\u001b[0m\n\u001b[1;32m      1\u001b[0m \u001b[0;31m#num = -2:\u001b[0m\u001b[0;34m\u001b[0m\u001b[0;34m\u001b[0m\u001b[0;34m\u001b[0m\u001b[0m\n\u001b[1;32m      2\u001b[0m \u001b[0;34m\u001b[0m\u001b[0m\n\u001b[0;32m----> 3\u001b[0;31m \u001b[0mmax_loss\u001b[0m \u001b[0;34m=\u001b[0m \u001b[0mstatistic\u001b[0m\u001b[0;34m[\u001b[0m\u001b[0;34m'max_loss'\u001b[0m\u001b[0;34m]\u001b[0m\u001b[0;34m\u001b[0m\u001b[0;34m\u001b[0m\u001b[0m\n\u001b[0m\u001b[1;32m      4\u001b[0m \u001b[0mprint\u001b[0m\u001b[0;34m(\u001b[0m\u001b[0mmax_loss\u001b[0m\u001b[0;34m[\u001b[0m\u001b[0;34m-\u001b[0m\u001b[0;36m10\u001b[0m\u001b[0;34m:\u001b[0m\u001b[0;34m]\u001b[0m\u001b[0;34m)\u001b[0m\u001b[0;34m\u001b[0m\u001b[0;34m\u001b[0m\u001b[0m\n\u001b[1;32m      5\u001b[0m \u001b[0mmin_loss\u001b[0m \u001b[0;34m=\u001b[0m \u001b[0mstatistic\u001b[0m\u001b[0;34m[\u001b[0m\u001b[0;34m'min_loss'\u001b[0m\u001b[0;34m]\u001b[0m\u001b[0;34m\u001b[0m\u001b[0;34m\u001b[0m\u001b[0m\n",
      "\u001b[0;31mNameError\u001b[0m: name 'statistic' is not defined"
     ]
    }
   ],
   "source": [
    "#num = -2:\n",
    "\n",
    "max_loss = statistic['max_loss']\n",
    "print(max_loss[-10:])\n",
    "min_loss = statistic['min_loss']\n",
    "print(min_loss[-10:])\n",
    "mean_loss = statistic['mean_loss']\n",
    "print(mean_loss[-10:])\n",
    "max_loss_index= statistic['max_loss_index']\n",
    "print(max_loss_index[-10:])\n",
    "min_loss_index= statistic['min_loss_index']\n",
    "print(min_loss_index[-10:]) \n",
    "max_loss_action = statistic['max_loss_action']\n",
    "print(max_loss_action[-10:])\n",
    "min_loss_action = statistic['min_loss_action']\n",
    "print(min_loss_action[-10:])\n",
    "loss_var = statistic['loss_var']\n",
    "print(loss_var[-10:])\n",
    "\n",
    "i=7\n",
    "a = max_loss_index[-10:][i].item()\n",
    "b = max_loss_action[-10:][i].cpu().numpy()\n",
    "\n",
    "print(a, b)"
   ]
  },
  {
   "cell_type": "markdown",
   "metadata": {},
   "source": [
    "### Visualize"
   ]
  },
  {
   "cell_type": "code",
   "execution_count": 64,
   "metadata": {},
   "outputs": [
    {
     "name": "stdout",
     "output_type": "stream",
     "text": [
      "> /home/mynsng/phyre-graph/neural_model.py(262)predict_qa()\n",
      "-> obs_predict = np.zeros((16, 256, 256), dtype = int)\n"
     ]
    },
    {
     "name": "stdin",
     "output_type": "stream",
     "text": [
      "(Pdb)  c\n"
     ]
    }
   ],
   "source": [
    "task_ids = [test[430]]\n",
    "action = [0.12, 0.387, 0.08]\n",
    "images, predict_images = agent.predict_qa(state, task_ids, tier, action)"
   ]
  },
  {
   "cell_type": "code",
   "execution_count": 65,
   "metadata": {},
   "outputs": [
    {
     "data": {
      "image/png": "[encoded data removed]",
      "text/plain": [
       "<Figure size 1080x1080 with 16 Axes>"
      ]
     },
     "metadata": {},
     "output_type": "display_data"
    },
    {
     "data": {
      "image/png": "[encoded data removed]",
      "text/plain": [
       "<Figure size 1080x1080 with 16 Axes>"
      ]
     },
     "metadata": {},
     "output_type": "display_data"
    }
   ],
   "source": [
    "# plot할 개수 설정\n",
    "fig1, axs1 = plt.subplots(4, 4, figsize=(15, 15))\n",
    "fig1.tight_layout()\n",
    "plt.subplots_adjust(hspace=0.2, wspace=0.2)\n",
    "\n",
    "fig2, axs2 = plt.subplots(4, 4, figsize=(15, 15))\n",
    "fig2.tight_layout()\n",
    "plt.subplots_adjust(hspace=0.2, wspace=0.2)\n",
    "\n",
    "# plot 해보리기~~\n",
    "for i, (ax, image) in enumerate(zip(axs1.flatten(), images)):\n",
    "    # Convert the simulation observation to images.\n",
    "    img = phyre.observations_to_float_rgb(image)\n",
    "    ax.imshow(img)\n",
    "    \n",
    "    ax.title.set_text(f'Timestep {i+1}, simulation')\n",
    "    ax.get_xaxis().set_ticks([])\n",
    "    ax.get_yaxis().set_ticks([])\n",
    "    \n",
    "for i, (ax, image) in enumerate(zip(axs2.flatten(), predict_images)):\n",
    "    # Convert the simulation observation to images.\n",
    "    img = phyre.observations_to_float_rgb(image)\n",
    "    ax.imshow(img)\n",
    "    \n",
    "    ax.title.set_text(f'Timestep {i+1}, prediction')\n",
    "    ax.get_xaxis().set_ticks([])\n",
    "    ax.get_yaxis().set_ticks([])"
   ]
  },
  {
   "cell_type": "markdown",
   "metadata": {},
   "source": [
    "### 4. Evaluate the Agent"
   ]
  },
  {
   "cell_type": "markdown",
   "metadata": {},
   "source": [
    "#### 4.1 Percentage of solved tasks per number of attempts"
   ]
  },
  {
   "cell_type": "code",
   "execution_count": 18,
   "metadata": {},
   "outputs": [
    {
     "name": "stderr",
     "output_type": "stream",
     "text": [
      "/home/mynsng/anaconda3/envs/phyre/lib/python3.6/site-packages/torch/nn/_reduction.py:43: UserWarning: size_average and reduce args will be deprecated, please use reduction='none' instead.\n",
      "  warnings.warn(warning.format(ret))\n"
     ]
    },
    {
     "name": "stdout",
     "output_type": "stream",
     "text": [
      "0.0008377671656489838\n"
     ]
    }
   ],
   "source": [
    "loss = agent.get_test_loss(state, test, tier)\n",
    "print(loss)\n"
   ]
  },
  {
   "cell_type": "markdown",
   "metadata": {},
   "source": [
    "#### 4.2 AUCESS"
   ]
  },
  {
   "cell_type": "code",
   "execution_count": 13,
   "metadata": {},
   "outputs": [],
   "source": [
    "model  = state['model']\n",
    "\n",
    "# save\n",
    "savePath = \"./model/16_512_within.pth\"\n",
    "torch.save(model.state_dict(), savePath)\n",
    "\n",
    "# load\n",
    "#new_model = TestModel()\n",
    "#new_model.load_state_dict(torch.load(\"./output/test_model.pth\"))"
   ]
  },
  {
   "cell_type": "markdown",
   "metadata": {},
   "source": [
    "### AUCCESS"
   ]
  },
  {
   "cell_type": "code",
   "execution_count": null,
   "metadata": {},
   "outputs": [],
   "source": [
    "evaluator = agent.eval(state, test, tier)"
   ]
  },
  {
   "cell_type": "code",
   "execution_count": null,
   "metadata": {},
   "outputs": [],
   "source": [
    "print('AUCESS after 100 attempts on test set', evaluator.get_aucess())"
   ]
  }
 ],
 "metadata": {
  "kernelspec": {
   "display_name": "Python 3",
   "language": "python",
   "name": "python3"
  },
  "language_info": {
   "codemirror_mode": {
    "name": "ipython",
    "version": 3
   },
   "file_extension": ".py",
   "mimetype": "text/x-python",
   "name": "python",
   "nbconvert_exporter": "python",
   "pygments_lexer": "ipython3",
   "version": "3.6.9"
  }
 },
 "nbformat": 4,
 "nbformat_minor": 4
}
