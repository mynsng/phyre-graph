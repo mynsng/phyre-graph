{
 "cells": [
  {
   "cell_type": "code",
   "execution_count": 1,
   "metadata": {},
   "outputs": [],
   "source": [
    "import matplotlib.pyplot as plt\n",
    "import numpy as np\n",
    "import random\n",
    "import phyre\n",
    "import torch\n",
    "import logging\n",
    "mpl_logger = logging.getLogger('matplotlib')\n",
    "mpl_logger.setLevel(logging.WARNING) "
   ]
  },
  {
   "cell_type": "code",
   "execution_count": 2,
   "metadata": {},
   "outputs": [],
   "source": [
    "tier = 'ball'\n",
    "eval_setup = 'ball_within_template'\n",
    "fold_id = 0\n",
    "random.seed(0)"
   ]
  },
  {
   "cell_type": "markdown",
   "metadata": {},
   "source": [
    "### 1. Initialize the  Simulation Cache"
   ]
  },
  {
   "cell_type": "code",
   "execution_count": 3,
   "metadata": {},
   "outputs": [
    {
     "name": "stdout",
     "output_type": "stream",
     "text": [
      "Size of resulting splits:\n",
      " train: 1600 \n",
      " dev: 400 \n",
      " test: 500\n"
     ]
    }
   ],
   "source": [
    "train, dev, test = phyre.get_fold(eval_setup, fold_id)\n",
    "print('Size of resulting splits:\\n train:', len(train), '\\n dev:',\n",
    "      len(dev), '\\n test:', len(test))"
   ]
  },
  {
   "cell_type": "code",
   "execution_count": 4,
   "metadata": {},
   "outputs": [
    {
     "name": "stdout",
     "output_type": "stream",
     "text": [
      "cache.action_array shape: (100000, 3)\n"
     ]
    }
   ],
   "source": [
    "cache = phyre.get_default_100k_cache(tier)\n",
    "print('cache.action_array shape:', cache.action_array.shape)"
   ]
  },
  {
   "cell_type": "markdown",
   "metadata": {},
   "source": [
    "### 2. Initialize the DQN Agent"
   ]
  },
  {
   "cell_type": "code",
   "execution_count": 5,
   "metadata": {},
   "outputs": [
    {
     "name": "stderr",
     "output_type": "stream",
     "text": [
      "DEBUG:root:test\n"
     ]
    }
   ],
   "source": [
    "from dqn import DQNAgent"
   ]
  },
  {
   "cell_type": "code",
   "execution_count": 6,
   "metadata": {},
   "outputs": [],
   "source": [
    "agent = DQNAgent()"
   ]
  },
  {
   "cell_type": "markdown",
   "metadata": {},
   "source": [
    "### 3. Train the Agent"
   ]
  },
  {
   "cell_type": "code",
   "execution_count": 7,
   "metadata": {},
   "outputs": [
    {
     "name": "stderr",
     "output_type": "stream",
     "text": [
      "INFO:root:Preprocess the training data\n",
      "INFO:root:Train set: size=117005756, solved_ratio=1.71%\n",
      "INFO:root:Create evaluation data from train & dev\n",
      "INFO:root:Start initializing the Model\n",
      "INFO:root:Start Training the Model\n",
      "/home/mynsng/anaconda3/envs/phyre/lib/python3.6/site-packages/torch/nn/_reduction.py:43: UserWarning: size_average and reduce args will be deprecated, please use reduction='none' instead.\n",
      "  warnings.warn(warning.format(ret))\n",
      "DEBUG:root:Iter: 1000, examples: 64000, mean loss: 0.315917, speed: 1.4 batch/sec, lr: 0.000300\n",
      "DEBUG:root:Iter: 2000, examples: 128000, mean loss: 0.209643, speed: 1.4 batch/sec, lr: 0.000300\n",
      "DEBUG:root:Iter: 3000, examples: 192000, mean loss: 0.183662, speed: 1.4 batch/sec, lr: 0.000300\n",
      "DEBUG:root:Iter: 4000, examples: 256000, mean loss: 0.163386, speed: 1.4 batch/sec, lr: 0.000299\n",
      "DEBUG:root:Iter: 5000, examples: 320000, mean loss: 0.157193, speed: 1.4 batch/sec, lr: 0.000299\n",
      "DEBUG:root:Iter: 6000, examples: 384000, mean loss: 0.147064, speed: 1.4 batch/sec, lr: 0.000299\n",
      "DEBUG:root:Iter: 7000, examples: 448000, mean loss: 0.142906, speed: 1.4 batch/sec, lr: 0.000298\n",
      "DEBUG:root:Iter: 8000, examples: 512000, mean loss: 0.136866, speed: 1.4 batch/sec, lr: 0.000298\n",
      "DEBUG:root:Iter: 9000, examples: 576000, mean loss: 0.132507, speed: 1.4 batch/sec, lr: 0.000297\n",
      "DEBUG:root:Iter: 10000, examples: 640000, mean loss: 0.129939, speed: 1.4 batch/sec, lr: 0.000297\n",
      "INFO:root:Start eval\n",
      "INFO:root:__log__:{'batch_id': 10000, 'train_auccess': 0.65427924652303, 'dev_auccess': 0.6257133713076002}\n",
      "DEBUG:root:Iter: 11000, examples: 704000, mean loss: 0.125467, speed: 0.7 batch/sec, lr: 0.000296\n",
      "DEBUG:root:Iter: 12000, examples: 768000, mean loss: 0.124484, speed: 1.5 batch/sec, lr: 0.000295\n",
      "DEBUG:root:Iter: 13000, examples: 832000, mean loss: 0.116247, speed: 1.4 batch/sec, lr: 0.000294\n",
      "DEBUG:root:Iter: 14000, examples: 896000, mean loss: 0.114404, speed: 1.4 batch/sec, lr: 0.000294\n",
      "DEBUG:root:Iter: 15000, examples: 960000, mean loss: 0.114236, speed: 1.4 batch/sec, lr: 0.000293\n",
      "DEBUG:root:Iter: 16000, examples: 1024000, mean loss: 0.109329, speed: 1.4 batch/sec, lr: 0.000292\n",
      "DEBUG:root:Iter: 17000, examples: 1088000, mean loss: 0.110559, speed: 1.5 batch/sec, lr: 0.000291\n",
      "DEBUG:root:Iter: 18000, examples: 1152000, mean loss: 0.107748, speed: 1.5 batch/sec, lr: 0.000289\n",
      "DEBUG:root:Iter: 19000, examples: 1216000, mean loss: 0.104063, speed: 1.4 batch/sec, lr: 0.000288\n",
      "DEBUG:root:Iter: 20000, examples: 1280000, mean loss: 0.104324, speed: 1.4 batch/sec, lr: 0.000287\n",
      "INFO:root:Start eval\n",
      "INFO:root:__log__:{'batch_id': 20000, 'train_auccess': 0.7470675242594154, 'dev_auccess': 0.6597644563877821}\n",
      "DEBUG:root:Iter: 21000, examples: 1344000, mean loss: 0.102979, speed: 0.7 batch/sec, lr: 0.000286\n",
      "DEBUG:root:Iter: 22000, examples: 1408000, mean loss: 0.103230, speed: 1.4 batch/sec, lr: 0.000284\n",
      "DEBUG:root:Iter: 23000, examples: 1472000, mean loss: 0.099561, speed: 1.4 batch/sec, lr: 0.000283\n",
      "DEBUG:root:Iter: 24000, examples: 1536000, mean loss: 0.099886, speed: 1.4 batch/sec, lr: 0.000281\n",
      "DEBUG:root:Iter: 25000, examples: 1600000, mean loss: 0.099047, speed: 1.4 batch/sec, lr: 0.000280\n",
      "DEBUG:root:Iter: 26000, examples: 1664000, mean loss: 0.098263, speed: 1.4 batch/sec, lr: 0.000278\n",
      "DEBUG:root:Iter: 27000, examples: 1728000, mean loss: 0.095347, speed: 1.5 batch/sec, lr: 0.000277\n",
      "DEBUG:root:Iter: 28000, examples: 1792000, mean loss: 0.092705, speed: 1.4 batch/sec, lr: 0.000275\n",
      "DEBUG:root:Iter: 29000, examples: 1856000, mean loss: 0.093885, speed: 1.4 batch/sec, lr: 0.000273\n",
      "DEBUG:root:Iter: 30000, examples: 1920000, mean loss: 0.095775, speed: 1.4 batch/sec, lr: 0.000271\n",
      "INFO:root:Start eval\n",
      "INFO:root:__log__:{'batch_id': 30000, 'train_auccess': 0.766081273427838, 'dev_auccess': 0.681373936330068}\n",
      "DEBUG:root:Iter: 31000, examples: 1984000, mean loss: 0.090974, speed: 0.7 batch/sec, lr: 0.000269\n",
      "DEBUG:root:Iter: 32000, examples: 2048000, mean loss: 0.091269, speed: 1.4 batch/sec, lr: 0.000268\n",
      "DEBUG:root:Iter: 33000, examples: 2112000, mean loss: 0.092639, speed: 1.4 batch/sec, lr: 0.000266\n",
      "DEBUG:root:Iter: 34000, examples: 2176000, mean loss: 0.086669, speed: 1.4 batch/sec, lr: 0.000264\n",
      "DEBUG:root:Iter: 35000, examples: 2240000, mean loss: 0.086629, speed: 1.4 batch/sec, lr: 0.000261\n",
      "DEBUG:root:Iter: 36000, examples: 2304000, mean loss: 0.088168, speed: 1.4 batch/sec, lr: 0.000259\n",
      "DEBUG:root:Iter: 37000, examples: 2368000, mean loss: 0.086853, speed: 1.4 batch/sec, lr: 0.000257\n",
      "DEBUG:root:Iter: 38000, examples: 2432000, mean loss: 0.088217, speed: 1.4 batch/sec, lr: 0.000255\n",
      "DEBUG:root:Iter: 39000, examples: 2496000, mean loss: 0.085558, speed: 1.5 batch/sec, lr: 0.000253\n",
      "DEBUG:root:Iter: 40000, examples: 2560000, mean loss: 0.082227, speed: 1.5 batch/sec, lr: 0.000250\n",
      "INFO:root:Start eval\n",
      "INFO:root:__log__:{'batch_id': 40000, 'train_auccess': 0.7575679260618835, 'dev_auccess': 0.6653553768501089}\n",
      "DEBUG:root:Iter: 41000, examples: 2624000, mean loss: 0.085645, speed: 0.7 batch/sec, lr: 0.000248\n",
      "DEBUG:root:Iter: 42000, examples: 2688000, mean loss: 0.082719, speed: 1.4 batch/sec, lr: 0.000246\n",
      "DEBUG:root:Iter: 43000, examples: 2752000, mean loss: 0.081249, speed: 1.4 batch/sec, lr: 0.000243\n",
      "DEBUG:root:Iter: 44000, examples: 2816000, mean loss: 0.080874, speed: 1.4 batch/sec, lr: 0.000241\n",
      "DEBUG:root:Iter: 45000, examples: 2880000, mean loss: 0.082020, speed: 1.4 batch/sec, lr: 0.000238\n",
      "DEBUG:root:Iter: 46000, examples: 2944000, mean loss: 0.079840, speed: 1.4 batch/sec, lr: 0.000236\n",
      "DEBUG:root:Iter: 47000, examples: 3008000, mean loss: 0.082083, speed: 1.4 batch/sec, lr: 0.000233\n",
      "DEBUG:root:Iter: 48000, examples: 3072000, mean loss: 0.078192, speed: 1.4 batch/sec, lr: 0.000230\n",
      "DEBUG:root:Iter: 49000, examples: 3136000, mean loss: 0.079385, speed: 1.4 batch/sec, lr: 0.000228\n",
      "DEBUG:root:Iter: 50000, examples: 3200000, mean loss: 0.079115, speed: 1.4 batch/sec, lr: 0.000225\n",
      "INFO:root:Start eval\n",
      "INFO:root:__log__:{'batch_id': 50000, 'train_auccess': 0.784235045558638, 'dev_auccess': 0.6622702836325307}\n",
      "DEBUG:root:Iter: 51000, examples: 3264000, mean loss: 0.078006, speed: 0.7 batch/sec, lr: 0.000222\n",
      "DEBUG:root:Iter: 52000, examples: 3328000, mean loss: 0.075594, speed: 1.5 batch/sec, lr: 0.000219\n",
      "DEBUG:root:Iter: 53000, examples: 3392000, mean loss: 0.077798, speed: 1.4 batch/sec, lr: 0.000217\n",
      "DEBUG:root:Iter: 54000, examples: 3456000, mean loss: 0.074502, speed: 1.4 batch/sec, lr: 0.000214\n",
      "DEBUG:root:Iter: 55000, examples: 3520000, mean loss: 0.075736, speed: 1.5 batch/sec, lr: 0.000211\n",
      "DEBUG:root:Iter: 56000, examples: 3584000, mean loss: 0.072467, speed: 1.5 batch/sec, lr: 0.000208\n",
      "DEBUG:root:Iter: 57000, examples: 3648000, mean loss: 0.074020, speed: 1.4 batch/sec, lr: 0.000205\n",
      "DEBUG:root:Iter: 58000, examples: 3712000, mean loss: 0.076375, speed: 1.5 batch/sec, lr: 0.000202\n",
      "DEBUG:root:Iter: 59000, examples: 3776000, mean loss: 0.074676, speed: 1.4 batch/sec, lr: 0.000199\n",
      "DEBUG:root:Iter: 60000, examples: 3840000, mean loss: 0.070946, speed: 1.4 batch/sec, lr: 0.000196\n",
      "INFO:root:Start eval\n",
      "INFO:root:__log__:{'batch_id': 60000, 'train_auccess': 0.783288802656021, 'dev_auccess': 0.6773798146730151}\n",
      "DEBUG:root:Iter: 61000, examples: 3904000, mean loss: 0.070898, speed: 0.7 batch/sec, lr: 0.000193\n",
      "DEBUG:root:Iter: 62000, examples: 3968000, mean loss: 0.070015, speed: 1.4 batch/sec, lr: 0.000190\n",
      "DEBUG:root:Iter: 63000, examples: 4032000, mean loss: 0.070979, speed: 1.4 batch/sec, lr: 0.000187\n",
      "DEBUG:root:Iter: 64000, examples: 4096000, mean loss: 0.069964, speed: 1.4 batch/sec, lr: 0.000184\n",
      "DEBUG:root:Iter: 65000, examples: 4160000, mean loss: 0.072340, speed: 1.4 batch/sec, lr: 0.000181\n",
      "DEBUG:root:Iter: 66000, examples: 4224000, mean loss: 0.068429, speed: 1.4 batch/sec, lr: 0.000178\n",
      "DEBUG:root:Iter: 67000, examples: 4288000, mean loss: 0.071341, speed: 1.4 batch/sec, lr: 0.000175\n",
      "DEBUG:root:Iter: 68000, examples: 4352000, mean loss: 0.069822, speed: 1.4 batch/sec, lr: 0.000172\n",
      "DEBUG:root:Iter: 69000, examples: 4416000, mean loss: 0.070523, speed: 1.4 batch/sec, lr: 0.000169\n",
      "DEBUG:root:Iter: 70000, examples: 4480000, mean loss: 0.065634, speed: 1.4 batch/sec, lr: 0.000166\n",
      "INFO:root:Start eval\n",
      "INFO:root:__log__:{'batch_id': 70000, 'train_auccess': 0.795581936856466, 'dev_auccess': 0.6854752131279193}\n",
      "DEBUG:root:Iter: 71000, examples: 4544000, mean loss: 0.066320, speed: 0.7 batch/sec, lr: 0.000163\n",
      "DEBUG:root:Iter: 72000, examples: 4608000, mean loss: 0.067049, speed: 1.4 batch/sec, lr: 0.000159\n",
      "DEBUG:root:Iter: 73000, examples: 4672000, mean loss: 0.066807, speed: 1.4 batch/sec, lr: 0.000156\n",
      "DEBUG:root:Iter: 74000, examples: 4736000, mean loss: 0.065684, speed: 1.4 batch/sec, lr: 0.000153\n",
      "DEBUG:root:Iter: 75000, examples: 4800000, mean loss: 0.063287, speed: 1.4 batch/sec, lr: 0.000150\n",
      "DEBUG:root:Iter: 76000, examples: 4864000, mean loss: 0.062867, speed: 1.4 batch/sec, lr: 0.000147\n",
      "DEBUG:root:Iter: 77000, examples: 4928000, mean loss: 0.067123, speed: 1.4 batch/sec, lr: 0.000144\n",
      "DEBUG:root:Iter: 78000, examples: 4992000, mean loss: 0.062309, speed: 1.4 batch/sec, lr: 0.000141\n",
      "DEBUG:root:Iter: 79000, examples: 5056000, mean loss: 0.064894, speed: 1.4 batch/sec, lr: 0.000137\n",
      "DEBUG:root:Iter: 80000, examples: 5120000, mean loss: 0.062406, speed: 1.4 batch/sec, lr: 0.000134\n",
      "INFO:root:Start eval\n",
      "INFO:root:__log__:{'batch_id': 80000, 'train_auccess': 0.8359300831230441, 'dev_auccess': 0.7118256091379571}\n",
      "DEBUG:root:Iter: 81000, examples: 5184000, mean loss: 0.062039, speed: 0.7 batch/sec, lr: 0.000131\n",
      "DEBUG:root:Iter: 82000, examples: 5248000, mean loss: 0.063574, speed: 1.4 batch/sec, lr: 0.000128\n",
      "DEBUG:root:Iter: 83000, examples: 5312000, mean loss: 0.061310, speed: 1.4 batch/sec, lr: 0.000125\n",
      "DEBUG:root:Iter: 84000, examples: 5376000, mean loss: 0.063432, speed: 1.4 batch/sec, lr: 0.000122\n",
      "DEBUG:root:Iter: 85000, examples: 5440000, mean loss: 0.060321, speed: 1.4 batch/sec, lr: 0.000119\n",
      "DEBUG:root:Iter: 86000, examples: 5504000, mean loss: 0.062040, speed: 1.4 batch/sec, lr: 0.000116\n",
      "DEBUG:root:Iter: 87000, examples: 5568000, mean loss: 0.061415, speed: 1.4 batch/sec, lr: 0.000113\n",
      "DEBUG:root:Iter: 88000, examples: 5632000, mean loss: 0.061610, speed: 1.4 batch/sec, lr: 0.000110\n",
      "DEBUG:root:Iter: 89000, examples: 5696000, mean loss: 0.061748, speed: 1.4 batch/sec, lr: 0.000107\n",
      "DEBUG:root:Iter: 90000, examples: 5760000, mean loss: 0.060545, speed: 1.4 batch/sec, lr: 0.000104\n",
      "INFO:root:Start eval\n",
      "INFO:root:__log__:{'batch_id': 90000, 'train_auccess': 0.8314443068557773, 'dev_auccess': 0.735486976511853}\n",
      "DEBUG:root:Iter: 91000, examples: 5824000, mean loss: 0.058932, speed: 0.7 batch/sec, lr: 0.000101\n",
      "DEBUG:root:Iter: 92000, examples: 5888000, mean loss: 0.057103, speed: 1.4 batch/sec, lr: 0.000098\n",
      "DEBUG:root:Iter: 93000, examples: 5952000, mean loss: 0.057069, speed: 1.4 batch/sec, lr: 0.000095\n",
      "DEBUG:root:Iter: 94000, examples: 6016000, mean loss: 0.057342, speed: 1.4 batch/sec, lr: 0.000092\n",
      "DEBUG:root:Iter: 95000, examples: 6080000, mean loss: 0.057563, speed: 1.4 batch/sec, lr: 0.000089\n",
      "DEBUG:root:Iter: 96000, examples: 6144000, mean loss: 0.055338, speed: 1.4 batch/sec, lr: 0.000086\n",
      "DEBUG:root:Iter: 97000, examples: 6208000, mean loss: 0.057415, speed: 1.5 batch/sec, lr: 0.000083\n",
      "DEBUG:root:Iter: 98000, examples: 6272000, mean loss: 0.055497, speed: 1.5 batch/sec, lr: 0.000081\n",
      "DEBUG:root:Iter: 99000, examples: 6336000, mean loss: 0.059174, speed: 1.4 batch/sec, lr: 0.000078\n",
      "DEBUG:root:Iter: 100000, examples: 6400000, mean loss: 0.054622, speed: 1.4 batch/sec, lr: 0.000075\n",
      "INFO:root:Start eval\n",
      "INFO:root:__log__:{'batch_id': 100000, 'train_auccess': 0.8319010476634753, 'dev_auccess': 0.7290763951676894}\n",
      "DEBUG:root:Iter: 101000, examples: 6464000, mean loss: 0.056773, speed: 0.7 batch/sec, lr: 0.000072\n",
      "DEBUG:root:Iter: 102000, examples: 6528000, mean loss: 0.054146, speed: 1.4 batch/sec, lr: 0.000070\n",
      "DEBUG:root:Iter: 103000, examples: 6592000, mean loss: 0.056731, speed: 1.4 batch/sec, lr: 0.000067\n",
      "DEBUG:root:Iter: 104000, examples: 6656000, mean loss: 0.053906, speed: 1.4 batch/sec, lr: 0.000064\n",
      "DEBUG:root:Iter: 105000, examples: 6720000, mean loss: 0.053461, speed: 1.4 batch/sec, lr: 0.000062\n",
      "DEBUG:root:Iter: 106000, examples: 6784000, mean loss: 0.055888, speed: 1.4 batch/sec, lr: 0.000059\n",
      "DEBUG:root:Iter: 107000, examples: 6848000, mean loss: 0.053562, speed: 1.5 batch/sec, lr: 0.000057\n",
      "DEBUG:root:Iter: 108000, examples: 6912000, mean loss: 0.054129, speed: 1.4 batch/sec, lr: 0.000054\n",
      "DEBUG:root:Iter: 109000, examples: 6976000, mean loss: 0.053259, speed: 1.4 batch/sec, lr: 0.000052\n",
      "DEBUG:root:Iter: 110000, examples: 7040000, mean loss: 0.051415, speed: 1.4 batch/sec, lr: 0.000050\n",
      "INFO:root:Start eval\n",
      "INFO:root:__log__:{'batch_id': 110000, 'train_auccess': 0.8237198556707159, 'dev_auccess': 0.7186883601846874}\n",
      "DEBUG:root:Iter: 111000, examples: 7104000, mean loss: 0.050852, speed: 0.7 batch/sec, lr: 0.000047\n",
      "DEBUG:root:Iter: 112000, examples: 7168000, mean loss: 0.052820, speed: 1.4 batch/sec, lr: 0.000045\n",
      "DEBUG:root:Iter: 113000, examples: 7232000, mean loss: 0.049434, speed: 1.4 batch/sec, lr: 0.000043\n",
      "DEBUG:root:Iter: 114000, examples: 7296000, mean loss: 0.051001, speed: 1.4 batch/sec, lr: 0.000041\n",
      "DEBUG:root:Iter: 115000, examples: 7360000, mean loss: 0.050647, speed: 1.4 batch/sec, lr: 0.000039\n",
      "DEBUG:root:Iter: 116000, examples: 7424000, mean loss: 0.050441, speed: 1.4 batch/sec, lr: 0.000036\n",
      "DEBUG:root:Iter: 117000, examples: 7488000, mean loss: 0.051488, speed: 1.4 batch/sec, lr: 0.000034\n",
      "DEBUG:root:Iter: 118000, examples: 7552000, mean loss: 0.049583, speed: 1.5 batch/sec, lr: 0.000032\n",
      "DEBUG:root:Iter: 119000, examples: 7616000, mean loss: 0.047872, speed: 1.5 batch/sec, lr: 0.000031\n",
      "DEBUG:root:Iter: 120000, examples: 7680000, mean loss: 0.048349, speed: 1.4 batch/sec, lr: 0.000029\n",
      "INFO:root:Start eval\n",
      "INFO:root:__log__:{'batch_id': 120000, 'train_auccess': 0.8306430997528926, 'dev_auccess': 0.7363422713980369}\n",
      "DEBUG:root:Iter: 121000, examples: 7744000, mean loss: 0.049304, speed: 0.7 batch/sec, lr: 0.000027\n",
      "DEBUG:root:Iter: 122000, examples: 7808000, mean loss: 0.049175, speed: 1.3 batch/sec, lr: 0.000025\n",
      "DEBUG:root:Iter: 123000, examples: 7872000, mean loss: 0.048954, speed: 1.3 batch/sec, lr: 0.000023\n",
      "DEBUG:root:Iter: 124000, examples: 7936000, mean loss: 0.047190, speed: 1.3 batch/sec, lr: 0.000022\n",
      "DEBUG:root:Iter: 125000, examples: 8000000, mean loss: 0.047051, speed: 1.3 batch/sec, lr: 0.000020\n",
      "DEBUG:root:Iter: 126000, examples: 8064000, mean loss: 0.048193, speed: 1.4 batch/sec, lr: 0.000019\n",
      "DEBUG:root:Iter: 127000, examples: 8128000, mean loss: 0.048076, speed: 1.4 batch/sec, lr: 0.000017\n",
      "DEBUG:root:Iter: 128000, examples: 8192000, mean loss: 0.047384, speed: 1.4 batch/sec, lr: 0.000016\n",
      "DEBUG:root:Iter: 129000, examples: 8256000, mean loss: 0.046596, speed: 1.4 batch/sec, lr: 0.000014\n",
      "DEBUG:root:Iter: 130000, examples: 8320000, mean loss: 0.046845, speed: 1.4 batch/sec, lr: 0.000013\n",
      "INFO:root:Start eval\n",
      "INFO:root:__log__:{'batch_id': 130000, 'train_auccess': 0.8333664066108385, 'dev_auccess': 0.7403839755611634}\n",
      "DEBUG:root:Iter: 131000, examples: 8384000, mean loss: 0.048160, speed: 0.7 batch/sec, lr: 0.000012\n",
      "DEBUG:root:Iter: 132000, examples: 8448000, mean loss: 0.045869, speed: 1.4 batch/sec, lr: 0.000011\n",
      "DEBUG:root:Iter: 133000, examples: 8512000, mean loss: 0.047191, speed: 1.4 batch/sec, lr: 0.000009\n",
      "DEBUG:root:Iter: 134000, examples: 8576000, mean loss: 0.044998, speed: 1.4 batch/sec, lr: 0.000008\n",
      "DEBUG:root:Iter: 135000, examples: 8640000, mean loss: 0.047539, speed: 1.5 batch/sec, lr: 0.000007\n",
      "DEBUG:root:Iter: 136000, examples: 8704000, mean loss: 0.047357, speed: 1.5 batch/sec, lr: 0.000006\n",
      "DEBUG:root:Iter: 137000, examples: 8768000, mean loss: 0.045960, speed: 1.4 batch/sec, lr: 0.000006\n",
      "DEBUG:root:Iter: 138000, examples: 8832000, mean loss: 0.048086, speed: 1.4 batch/sec, lr: 0.000005\n",
      "DEBUG:root:Iter: 139000, examples: 8896000, mean loss: 0.047873, speed: 1.4 batch/sec, lr: 0.000004\n",
      "DEBUG:root:Iter: 140000, examples: 8960000, mean loss: 0.045629, speed: 1.5 batch/sec, lr: 0.000003\n",
      "INFO:root:Start eval\n",
      "INFO:root:__log__:{'batch_id': 140000, 'train_auccess': 0.8394931869626141, 'dev_auccess': 0.7381527337662142}\n",
      "DEBUG:root:Iter: 141000, examples: 9024000, mean loss: 0.047709, speed: 0.7 batch/sec, lr: 0.000003\n",
      "DEBUG:root:Iter: 142000, examples: 9088000, mean loss: 0.047189, speed: 1.4 batch/sec, lr: 0.000002\n",
      "DEBUG:root:Iter: 143000, examples: 9152000, mean loss: 0.047384, speed: 1.4 batch/sec, lr: 0.000002\n",
      "DEBUG:root:Iter: 144000, examples: 9216000, mean loss: 0.046261, speed: 1.4 batch/sec, lr: 0.000001\n",
      "DEBUG:root:Iter: 145000, examples: 9280000, mean loss: 0.045944, speed: 1.4 batch/sec, lr: 0.000001\n",
      "DEBUG:root:Iter: 146000, examples: 9344000, mean loss: 0.045156, speed: 1.4 batch/sec, lr: 0.000001\n",
      "DEBUG:root:Iter: 147000, examples: 9408000, mean loss: 0.044929, speed: 1.4 batch/sec, lr: 0.000000\n",
      "DEBUG:root:Iter: 148000, examples: 9472000, mean loss: 0.045948, speed: 1.4 batch/sec, lr: 0.000000\n",
      "DEBUG:root:Iter: 149000, examples: 9536000, mean loss: 0.043661, speed: 1.4 batch/sec, lr: 0.000000\n",
      "DEBUG:root:Iter: 150000, examples: 9600000, mean loss: 0.046029, speed: 1.4 batch/sec, lr: 0.000000\n",
      "INFO:root:Start eval\n",
      "INFO:root:__log__:{'batch_id': 150000, 'train_auccess': 0.8402210393066948, 'dev_auccess': 0.735444831740002}\n"
     ]
    }
   ],
   "source": [
    "state, statistic = agent.train(cache, train, tier, dev)"
   ]
  },
  {
   "cell_type": "code",
   "execution_count": 83,
   "metadata": {},
   "outputs": [
    {
     "name": "stdout",
     "output_type": "stream",
     "text": [
      "[0.3622957170009613, 1.5357636213302612, 1.8840168714523315, 1.8548859357833862, 2.8715736865997314, 1.2475779056549072, 0.1707039475440979, 5.706304550170898, 0.6154856085777283, 0.6105239391326904]\n",
      "[0.00022416954743675888, 0.0001461137435398996, 0.0003073552215937525, 0.0002568325726315379, 0.0003214867028873414, 0.0002601119631435722, 0.00012793442874681205, 0.00044565682765096426, 0.00028285817825235426, 0.000206453594728373]\n",
      "[tensor(525), tensor(1408), tensor(1525), tensor(1062), tensor(446), tensor(504), tensor(307), tensor(828), tensor(314), tensor(305)]\n",
      "[tensor(202), tensor(80), tensor(1029), tensor(207), tensor(319), tensor(68), tensor(232), tensor(86), tensor(345), tensor(619)]\n",
      "[tensor([0.0374, 0.7479, 0.2232], device='cuda:0'), tensor([0.6767, 0.5646, 0.5641], device='cuda:0'), tensor([0.8902, 0.4768, 0.3920], device='cuda:0'), tensor([0.6054, 0.5033, 0.8099], device='cuda:0'), tensor([0.5726, 0.2995, 0.7838], device='cuda:0'), tensor([0.5972, 0.9472, 0.1929], device='cuda:0'), tensor([0.7894, 0.8658, 0.4980], device='cuda:0'), tensor([0.5672, 0.4609, 0.5200], device='cuda:0'), tensor([0.8648, 0.6412, 0.7021], device='cuda:0'), tensor([0.6721, 0.5205, 0.4771], device='cuda:0')]\n",
      "[tensor([0.6191, 0.7976, 0.4692], device='cuda:0'), tensor([0.7337, 0.5533, 0.7651], device='cuda:0'), tensor([0.8881, 0.3805, 0.5751], device='cuda:0'), tensor([0.5140, 0.6044, 0.6644], device='cuda:0'), tensor([0.5700, 0.3378, 0.2412], device='cuda:0'), tensor([0.7697, 0.4769, 0.7023], device='cuda:0'), tensor([0.3527, 0.1638, 0.1677], device='cuda:0'), tensor([0.2482, 0.8153, 0.5619], device='cuda:0'), tensor([0.9477, 0.2375, 0.0950], device='cuda:0'), tensor([0.2259, 0.5383, 0.7171], device='cuda:0')]\n",
      "[0.004917514976114035, 0.039556920528411865, 0.05547081306576729, 0.06870091706514359, 0.13143952190876007, 0.025107894092798233, 0.0008697055745869875, 0.5080057978630066, 0.007901778444647789, 0.009267120622098446]\n",
      "828 [0.5671526  0.46087444 0.52001524]\n"
     ]
    }
   ],
   "source": [
    "#num = -2:\n",
    "\n",
    "max_loss = statistic['max_loss']\n",
    "print(max_loss[-10:])\n",
    "min_loss = statistic['min_loss']\n",
    "print(min_loss[-10:])\n",
    "max_loss_index= statistic['max_loss_index']\n",
    "print(max_loss_index[-10:])\n",
    "min_loss_index= statistic['min_loss_index']\n",
    "print(min_loss_index[-10:]) \n",
    "max_loss_action = statistic['max_loss_action']\n",
    "print(max_loss_action[-10:])\n",
    "min_loss_action = statistic['min_loss_action']\n",
    "print(min_loss_action[-10:])\n",
    "loss_var = statistic['loss_var']\n",
    "print(loss_var[-10:])\n",
    "\n",
    "i=7\n",
    "a = max_loss_index[-10:][i].item()\n",
    "b = max_loss_action[-10:][i].cpu().numpy()\n",
    "\n",
    "print(a, b)"
   ]
  },
  {
   "cell_type": "markdown",
   "metadata": {},
   "source": [
    "### Visualize"
   ]
  },
  {
   "cell_type": "code",
   "execution_count": 84,
   "metadata": {},
   "outputs": [],
   "source": [
    "task_ids = [train[a]]\n",
    "action = b\n",
    "images, predict_images = agent.predict_qa(state, task_ids, tier, action)\n",
    "images = images[1:11]"
   ]
  },
  {
   "cell_type": "code",
   "execution_count": 85,
   "metadata": {},
   "outputs": [
    {
     "data": {
      "image/png": "[encoded data removed]",
      "text/plain": [
       "<Figure size 1440x576 with 10 Axes>"
      ]
     },
     "metadata": {},
     "output_type": "display_data"
    },
    {
     "data": {
      "image/png": "[encoded data removed]",
      "text/plain": [
       "<Figure size 1440x576 with 10 Axes>"
      ]
     },
     "metadata": {},
     "output_type": "display_data"
    }
   ],
   "source": [
    "# plot할 개수 설정\n",
    "fig1, axs1 = plt.subplots(2, 5, figsize=(20, 8))\n",
    "fig1.tight_layout()\n",
    "plt.subplots_adjust(hspace=0.2, wspace=0.2)\n",
    "\n",
    "fig2, axs2 = plt.subplots(2, 5, figsize=(20, 8))\n",
    "fig2.tight_layout()\n",
    "plt.subplots_adjust(hspace=0.2, wspace=0.2)\n",
    "\n",
    "# plot 해보리기~~\n",
    "for i, (ax, image) in enumerate(zip(axs1.flatten(), images)):\n",
    "    # Convert the simulation observation to images.\n",
    "    img = phyre.observations_to_float_rgb(image)\n",
    "    ax.imshow(img)\n",
    "    \n",
    "    ax.title.set_text(f'Timestep {i+1}, simulation')\n",
    "    ax.get_xaxis().set_ticks([])\n",
    "    ax.get_yaxis().set_ticks([])\n",
    "    \n",
    "for i, (ax, image) in enumerate(zip(axs2.flatten(), predict_images)):\n",
    "    # Convert the simulation observation to images.\n",
    "    img = phyre.observations_to_float_rgb(image)\n",
    "    ax.imshow(img)\n",
    "    \n",
    "    ax.title.set_text(f'Timestep {i+1}, prediction')\n",
    "    ax.get_xaxis().set_ticks([])\n",
    "    ax.get_yaxis().set_ticks([])"
   ]
  },
  {
   "cell_type": "markdown",
   "metadata": {},
   "source": [
    "### 4. Evaluate the Agent"
   ]
  },
  {
   "cell_type": "code",
   "execution_count": 11,
   "metadata": {},
   "outputs": [],
   "source": [
    "evaluator = agent.eval(state, test, tier)"
   ]
  },
  {
   "cell_type": "markdown",
   "metadata": {},
   "source": [
    "#### 4.1 Percentage of solved tasks per number of attempts"
   ]
  },
  {
   "cell_type": "code",
   "execution_count": 12,
   "metadata": {},
   "outputs": [
    {
     "data": {
      "image/png": "[encoded data removed]",
      "text/plain": [
       "<Figure size 432x288 with 1 Axes>"
      ]
     },
     "metadata": {
      "needs_background": "light"
     },
     "output_type": "display_data"
    }
   ],
   "source": [
    "plt.plot(np.arange(phyre.MAX_TEST_ATTEMPTS)+1, evaluator.compute_all_metrics()['independent_solved_by'][1:])\n",
    "plt.ylim(0,1)\n",
    "plt.xscale('log')\n",
    "plt.show()"
   ]
  },
  {
   "cell_type": "markdown",
   "metadata": {},
   "source": [
    "#### 4.2 AUCESS"
   ]
  },
  {
   "cell_type": "code",
   "execution_count": 13,
   "metadata": {},
   "outputs": [
    {
     "name": "stdout",
     "output_type": "stream",
     "text": [
      "AUCESS after 100 attempts on test set 0.11201789801761751\n"
     ]
    }
   ],
   "source": [
    "print('AUCESS after 100 attempts on test set', evaluator.get_aucess())"
   ]
  },
  {
   "cell_type": "code",
   "execution_count": null,
   "metadata": {},
   "outputs": [],
   "source": []
  }
 ],
 "metadata": {
  "kernelspec": {
   "display_name": "Python 3",
   "language": "python",
   "name": "python3"
  },
  "language_info": {
   "codemirror_mode": {
    "name": "ipython",
    "version": 3
   },
   "file_extension": ".py",
   "mimetype": "text/x-python",
   "name": "python",
   "nbconvert_exporter": "python",
   "pygments_lexer": "ipython3",
   "version": "3.6.9"
  }
 },
 "nbformat": 4,
 "nbformat_minor": 4
}
