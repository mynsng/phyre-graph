{
 "cells": [
  {
   "cell_type": "code",
   "execution_count": 1,
   "metadata": {},
   "outputs": [],
   "source": [
    "import matplotlib.pyplot as plt\n",
    "import numpy as np\n",
    "import random\n",
    "import phyre\n",
    "import torch\n",
    "import logging\n",
    "mpl_logger = logging.getLogger('matplotlib')\n",
    "mpl_logger.setLevel(logging.WARNING) "
   ]
  },
  {
   "cell_type": "code",
   "execution_count": 2,
   "metadata": {},
   "outputs": [],
   "source": [
    "tier = 'ball'\n",
    "eval_setup = 'ball_within_template'\n",
    "fold_id = 0\n",
    "random.seed(0)"
   ]
  },
  {
   "cell_type": "markdown",
   "metadata": {},
   "source": [
    "### 1. Initialize the  Simulation Cache"
   ]
  },
  {
   "cell_type": "code",
   "execution_count": 3,
   "metadata": {},
   "outputs": [
    {
     "name": "stdout",
     "output_type": "stream",
     "text": [
      "Size of resulting splits:\n",
      " train: 1600 \n",
      " dev: 400 \n",
      " test: 500\n"
     ]
    }
   ],
   "source": [
    "train, dev, test = phyre.get_fold(eval_setup, fold_id)\n",
    "print('Size of resulting splits:\\n train:', len(train), '\\n dev:',\n",
    "      len(dev), '\\n test:', len(test))"
   ]
  },
  {
   "cell_type": "code",
   "execution_count": 4,
   "metadata": {},
   "outputs": [
    {
     "name": "stdout",
     "output_type": "stream",
     "text": [
      "cache.action_array shape: (100000, 3)\n"
     ]
    }
   ],
   "source": [
    "cache = phyre.get_default_100k_cache(tier)\n",
    "print('cache.action_array shape:', cache.action_array.shape)"
   ]
  },
  {
   "cell_type": "markdown",
   "metadata": {},
   "source": [
    "### 2. Initialize the DQN Agent"
   ]
  },
  {
   "cell_type": "code",
   "execution_count": 5,
   "metadata": {},
   "outputs": [
    {
     "name": "stderr",
     "output_type": "stream",
     "text": [
      "DEBUG:root:test\n"
     ]
    }
   ],
   "source": [
    "from dqn import DQNAgent"
   ]
  },
  {
   "cell_type": "code",
   "execution_count": 6,
   "metadata": {},
   "outputs": [],
   "source": [
    "agent = DQNAgent()"
   ]
  },
  {
   "cell_type": "markdown",
   "metadata": {},
   "source": [
    "### Load Model"
   ]
  },
  {
   "cell_type": "code",
   "execution_count": 7,
   "metadata": {},
   "outputs": [],
   "source": [
    "model = agent.build_model()\n",
    "#new_model = TestModel()\n",
    "model.load_state_dict(torch.load(\"./model/test_model.pth\"))\n",
    "state = dict(model =model, cache = cache)"
   ]
  },
  {
   "cell_type": "markdown",
   "metadata": {},
   "source": [
    "### 3. Train the Agent"
   ]
  },
  {
   "cell_type": "code",
   "execution_count": null,
   "metadata": {},
   "outputs": [
    {
     "name": "stderr",
     "output_type": "stream",
     "text": [
      "INFO:root:Preprocess the training data\n",
      "INFO:root:Train set: size=117005756, solved_ratio=1.71%\n",
      "INFO:root:Create evaluation data from train & dev\n",
      "INFO:root:Start initializing the Model\n",
      "INFO:root:Start Training the Model\n",
      "/home/mynsng/anaconda3/envs/phyre/lib/python3.6/site-packages/torch/nn/_reduction.py:43: UserWarning: size_average and reduce args will be deprecated, please use reduction='none' instead.\n",
      "  warnings.warn(warning.format(ret))\n"
     ]
    }
   ],
   "source": [
    "state, statistic = agent.train(cache, train, tier, test)"
   ]
  },
  {
   "cell_type": "code",
   "execution_count": 14,
   "metadata": {},
   "outputs": [],
   "source": [
    "import pickle"
   ]
  },
  {
   "cell_type": "code",
   "execution_count": 17,
   "metadata": {},
   "outputs": [],
   "source": [
    "file=open(\"./model/statistic\",\"wb\") \n",
    "pickle.dump(statistic,file) \n",
    "file.close()"
   ]
  },
  {
   "cell_type": "code",
   "execution_count": 18,
   "metadata": {},
   "outputs": [
    {
     "data": {
      "text/plain": [
       "{'max_loss': [0.22566303610801697,\n",
       "  0.33785611391067505,\n",
       "  0.3251999616622925,\n",
       "  0.2762452960014343,\n",
       "  0.2595049738883972,\n",
       "  0.24220727384090424,\n",
       "  0.26737651228904724,\n",
       "  0.2224251627922058,\n",
       "  0.16893251240253448,\n",
       "  0.20253822207450867,\n",
       "  0.23607254028320312,\n",
       "  0.16420316696166992,\n",
       "  0.13396820425987244,\n",
       "  0.19362539052963257,\n",
       "  0.1522386223077774,\n",
       "  0.1756264567375183,\n",
       "  0.14412248134613037,\n",
       "  0.1509857028722763,\n",
       "  0.21920999884605408],\n",
       " 'min_loss': [0.08454235643148422,\n",
       "  0.07449795305728912,\n",
       "  0.04295249283313751,\n",
       "  0.02174980379641056,\n",
       "  0.04839456453919411,\n",
       "  0.037746086716651917,\n",
       "  0.04054053872823715,\n",
       "  0.05455659702420235,\n",
       "  0.05192498862743378,\n",
       "  0.034379079937934875,\n",
       "  0.037249140441417694,\n",
       "  0.05573035404086113,\n",
       "  0.03413664922118187,\n",
       "  0.028800349682569504,\n",
       "  0.028857296332716942,\n",
       "  0.04206705838441849,\n",
       "  0.026426365599036217,\n",
       "  0.03180651366710663,\n",
       "  0.051828622817993164],\n",
       " 'loss_var': [0.0015211425488814712,\n",
       "  0.004742411896586418,\n",
       "  0.005595352966338396,\n",
       "  0.0038974641356617212,\n",
       "  0.004940862767398357,\n",
       "  0.0028631691820919514,\n",
       "  0.003442124929279089,\n",
       "  0.0024948869831860065,\n",
       "  0.0012398508843034506,\n",
       "  0.0032257225830107927,\n",
       "  0.003012473927810788,\n",
       "  0.000736071786377579,\n",
       "  0.0008116764365695417,\n",
       "  0.0023583287838846445,\n",
       "  0.0012408412294462323,\n",
       "  0.0012405834859237075,\n",
       "  0.001595610985532403,\n",
       "  0.0012753831688314676,\n",
       "  0.001996338367462158],\n",
       " 'max_loss_index': [tensor(1405),\n",
       "  tensor(201),\n",
       "  tensor(239),\n",
       "  tensor(120),\n",
       "  tensor(497),\n",
       "  tensor(1254),\n",
       "  tensor(190),\n",
       "  tensor(775),\n",
       "  tensor(719),\n",
       "  tensor(228),\n",
       "  tensor(211),\n",
       "  tensor(1120),\n",
       "  tensor(719),\n",
       "  tensor(1560),\n",
       "  tensor(92),\n",
       "  tensor(243),\n",
       "  tensor(116),\n",
       "  tensor(1066),\n",
       "  tensor(1066)],\n",
       " 'min_loss_index': [tensor(40),\n",
       "  tensor(18),\n",
       "  tensor(32),\n",
       "  tensor(474),\n",
       "  tensor(43),\n",
       "  tensor(433),\n",
       "  tensor(351),\n",
       "  tensor(16),\n",
       "  tensor(793),\n",
       "  tensor(17),\n",
       "  tensor(833),\n",
       "  tensor(671),\n",
       "  tensor(1231),\n",
       "  tensor(50),\n",
       "  tensor(15),\n",
       "  tensor(221),\n",
       "  tensor(15),\n",
       "  tensor(529),\n",
       "  tensor(671)],\n",
       " 'max_loss_action': [tensor([0.9130, 0.5721, 0.1808], device='cuda:0'),\n",
       "  tensor([0.5671, 0.3188, 0.8814], device='cuda:0'),\n",
       "  tensor([0.2673, 0.2497, 0.5844], device='cuda:0'),\n",
       "  tensor([0.8677, 0.6198, 0.6083], device='cuda:0'),\n",
       "  tensor([0.6724, 0.9060, 0.6356], device='cuda:0'),\n",
       "  tensor([0.4527, 0.9363, 0.3474], device='cuda:0'),\n",
       "  tensor([0.7372, 0.6283, 0.9455], device='cuda:0'),\n",
       "  tensor([0.5583, 0.8556, 0.7428], device='cuda:0'),\n",
       "  tensor([0.8086, 0.1542, 0.9927], device='cuda:0'),\n",
       "  tensor([0.6589, 0.7709, 0.8309], device='cuda:0'),\n",
       "  tensor([0.0719, 0.3838, 0.4581], device='cuda:0'),\n",
       "  tensor([0.9348, 0.4919, 0.2806], device='cuda:0'),\n",
       "  tensor([0.0963, 0.8653, 0.1374], device='cuda:0'),\n",
       "  tensor([0.9199, 0.5664, 0.0971], device='cuda:0'),\n",
       "  tensor([0.8242, 0.2452, 0.4411], device='cuda:0'),\n",
       "  tensor([0.4206, 0.3438, 0.9723], device='cuda:0'),\n",
       "  tensor([0.5837, 0.9043, 0.5298], device='cuda:0'),\n",
       "  tensor([0.8021, 0.3858, 0.7434], device='cuda:0'),\n",
       "  tensor([0.7275, 0.9627, 0.2086], device='cuda:0')],\n",
       " 'min_loss_action': [tensor([0.2605, 0.6544, 0.6746], device='cuda:0'),\n",
       "  tensor([0.2224, 0.6047, 0.6106], device='cuda:0'),\n",
       "  tensor([0.3851, 0.6731, 0.4195], device='cuda:0'),\n",
       "  tensor([0.5627, 0.9451, 0.0764], device='cuda:0'),\n",
       "  tensor([0.2397, 0.1000, 0.6919], device='cuda:0'),\n",
       "  tensor([0.3038, 0.8627, 0.4118], device='cuda:0'),\n",
       "  tensor([0.4254, 0.6791, 0.4836], device='cuda:0'),\n",
       "  tensor([0.7200, 0.0847, 0.3373], device='cuda:0'),\n",
       "  tensor([0.3413, 0.4504, 0.7435], device='cuda:0'),\n",
       "  tensor([0.4901, 0.2951, 0.3096], device='cuda:0'),\n",
       "  tensor([0.3503, 0.8604, 0.0376], device='cuda:0'),\n",
       "  tensor([0.8557, 0.8150, 0.5214], device='cuda:0'),\n",
       "  tensor([0.1443, 0.5657, 0.2003], device='cuda:0'),\n",
       "  tensor([0.5187, 0.6395, 0.6488], device='cuda:0'),\n",
       "  tensor([0.1662, 0.0497, 0.2739], device='cuda:0'),\n",
       "  tensor([0.2397, 0.7658, 0.3888], device='cuda:0'),\n",
       "  tensor([0.1563, 0.6822, 0.6719], device='cuda:0'),\n",
       "  tensor([0.5196, 0.1214, 0.4343], device='cuda:0'),\n",
       "  tensor([0.5678, 0.7269, 0.9306], device='cuda:0')],\n",
       " 'mean_loss': [0.147886723279953,\n",
       "  0.17229226231575012,\n",
       "  0.16524675488471985,\n",
       "  0.14107760787010193,\n",
       "  0.12384378165006638,\n",
       "  0.12947753071784973,\n",
       "  0.13845549523830414,\n",
       "  0.10865657031536102,\n",
       "  0.10609274357557297,\n",
       "  0.09791268408298492,\n",
       "  0.10971605777740479,\n",
       "  0.08838730305433273,\n",
       "  0.08143863081932068,\n",
       "  0.08636943995952606,\n",
       "  0.09298428893089294,\n",
       "  0.09748515486717224,\n",
       "  0.0758376270532608,\n",
       "  0.07821370661258698,\n",
       "  0.09715987741947174]}"
      ]
     },
     "execution_count": 18,
     "metadata": {},
     "output_type": "execute_result"
    }
   ],
   "source": [
    "file=open(\"./model/statistic\",\"rb\") \n",
    "content=pickle.load(file) \n",
    "content\n"
   ]
  },
  {
   "cell_type": "code",
   "execution_count": 19,
   "metadata": {},
   "outputs": [
    {
     "data": {
      "text/plain": [
       "[0.22566303610801697,\n",
       " 0.33785611391067505,\n",
       " 0.3251999616622925,\n",
       " 0.2762452960014343,\n",
       " 0.2595049738883972,\n",
       " 0.24220727384090424,\n",
       " 0.26737651228904724,\n",
       " 0.2224251627922058,\n",
       " 0.16893251240253448,\n",
       " 0.20253822207450867,\n",
       " 0.23607254028320312,\n",
       " 0.16420316696166992,\n",
       " 0.13396820425987244,\n",
       " 0.19362539052963257,\n",
       " 0.1522386223077774,\n",
       " 0.1756264567375183,\n",
       " 0.14412248134613037,\n",
       " 0.1509857028722763,\n",
       " 0.21920999884605408]"
      ]
     },
     "execution_count": 19,
     "metadata": {},
     "output_type": "execute_result"
    }
   ],
   "source": [
    "content['max_loss']"
   ]
  },
  {
   "cell_type": "code",
   "execution_count": 8,
   "metadata": {},
   "outputs": [
    {
     "name": "stdout",
     "output_type": "stream",
     "text": [
      "[0.14848998188972473, 0.18018268048763275, 0.11242681741714478, 0.10856015980243683, 0.14997316896915436, 0.1194411963224411, 0.12812013924121857, 0.12325926125049591, 0.12009787559509277, 0.16466282308101654]\n",
      "[0.028938516974449158, 0.03677867352962494, 0.036842212080955505, 0.022328238934278488, 0.028532125055789948, 0.029262635856866837, 0.047783225774765015, 0.02437187358736992, 0.03441291302442551, 0.03243743255734444]\n",
      "[0.07792310416698456, 0.09102018177509308, 0.06940846890211105, 0.06691253185272217, 0.07227925956249237, 0.07414978742599487, 0.07966402918100357, 0.06250974535942078, 0.06604337692260742, 0.08179539442062378]\n",
      "[tensor(228), tensor(211), tensor(1120), tensor(719), tensor(1560), tensor(92), tensor(243), tensor(116), tensor(857), tensor(304)]\n",
      "[tensor(321), tensor(833), tensor(671), tensor(1231), tensor(17), tensor(15), tensor(221), tensor(664), tensor(1359), tensor(671)]\n",
      "[tensor([0.6589, 0.7709, 0.8309], device='cuda:0'), tensor([0.0719, 0.3838, 0.4581], device='cuda:0'), tensor([0.9348, 0.4919, 0.2806], device='cuda:0'), tensor([0.0963, 0.8653, 0.1374], device='cuda:0'), tensor([0.9199, 0.5664, 0.0971], device='cuda:0'), tensor([0.8242, 0.2452, 0.4411], device='cuda:0'), tensor([0.4206, 0.3438, 0.9723], device='cuda:0'), tensor([0.5837, 0.9043, 0.5298], device='cuda:0'), tensor([0.8565, 0.7981, 0.3967], device='cuda:0'), tensor([0.4471, 0.8959, 0.6202], device='cuda:0')]\n",
      "[tensor([0.4021, 0.4516, 0.0314], device='cuda:0'), tensor([0.3503, 0.8604, 0.0376], device='cuda:0'), tensor([0.8557, 0.8150, 0.5214], device='cuda:0'), tensor([0.1443, 0.5657, 0.2003], device='cuda:0'), tensor([0.1929, 0.2039, 0.1871], device='cuda:0'), tensor([0.1662, 0.0497, 0.2739], device='cuda:0'), tensor([0.2397, 0.7658, 0.3888], device='cuda:0'), tensor([0.8718, 0.6977, 0.1708], device='cuda:0'), tensor([0.5081, 0.3660, 0.3595], device='cuda:0'), tensor([0.5678, 0.7269, 0.9306], device='cuda:0')]\n",
      "[0.0016777984565123916, 0.0017716201255097985, 0.0004337256832513958, 0.0006044259062036872, 0.001209203852340579, 0.0006560815963894129, 0.0005869331071153283, 0.0008177765994332731, 0.0006809555343352258, 0.0013106906553730369]\n",
      "211 [0.07194024 0.38377666 0.45812997]\n"
     ]
    }
   ],
   "source": [
    "#num = -2:\n",
    "\n",
    "max_loss = statistic['max_loss']\n",
    "print(max_loss[-10:])\n",
    "min_loss = statistic['min_loss']\n",
    "print(min_loss[-10:])\n",
    "mean_loss = statistic['mean_loss']\n",
    "print(mean_loss[-10:])\n",
    "max_loss_index= statistic['max_loss_index']\n",
    "print(max_loss_index[-10:])\n",
    "min_loss_index= statistic['min_loss_index']\n",
    "print(min_loss_index[-10:]) \n",
    "max_loss_action = statistic['max_loss_action']\n",
    "print(max_loss_action[-10:])\n",
    "min_loss_action = statistic['min_loss_action']\n",
    "print(min_loss_action[-10:])\n",
    "loss_var = statistic['loss_var']\n",
    "print(loss_var[-10:])\n",
    "\n",
    "i=1\n",
    "a = max_loss_index[-10:][i].item()\n",
    "b = max_loss_action[-10:][i].cpu().numpy()\n",
    "\n",
    "print(a, b)"
   ]
  },
  {
   "cell_type": "markdown",
   "metadata": {},
   "source": [
    "### Visualize"
   ]
  },
  {
   "cell_type": "code",
   "execution_count": 9,
   "metadata": {},
   "outputs": [
    {
     "name": "stdout",
     "output_type": "stream",
     "text": [
      "> /home/mynsng/phyre-graph/neural_model.py(262)predict_qa()\n",
      "-> obs_predict = np.zeros((16, 256, 256), dtype = int)\n"
     ]
    },
    {
     "name": "stdin",
     "output_type": "stream",
     "text": [
      "(Pdb)  c\n"
     ]
    }
   ],
   "source": [
    "task_ids = [test[320]]\n",
    "action = np.array([0.5 ,0.7 ,0.51880586])\n",
    "images, predict_images = agent.predict_qa(state, task_ids, tier, action)"
   ]
  },
  {
   "cell_type": "code",
   "execution_count": 10,
   "metadata": {},
   "outputs": [
    {
     "data": {
      "image/png": "[encoded data removed]",
      "text/plain": [
       "<Figure size 1080x1080 with 16 Axes>"
      ]
     },
     "metadata": {},
     "output_type": "display_data"
    },
    {
     "data": {
      "image/png": "[encoded data removed]",
      "text/plain": [
       "<Figure size 1080x1080 with 16 Axes>"
      ]
     },
     "metadata": {},
     "output_type": "display_data"
    }
   ],
   "source": [
    "# plot할 개수 설정\n",
    "fig1, axs1 = plt.subplots(4, 4, figsize=(15, 15))\n",
    "fig1.tight_layout()\n",
    "plt.subplots_adjust(hspace=0.2, wspace=0.2)\n",
    "\n",
    "fig2, axs2 = plt.subplots(4, 4, figsize=(15, 15))\n",
    "fig2.tight_layout()\n",
    "plt.subplots_adjust(hspace=0.2, wspace=0.2)\n",
    "\n",
    "# plot 해보리기~~\n",
    "for i, (ax, image) in enumerate(zip(axs1.flatten(), images)):\n",
    "    # Convert the simulation observation to images.\n",
    "    img = phyre.observations_to_float_rgb(image)\n",
    "    ax.imshow(img)\n",
    "    \n",
    "    ax.title.set_text(f'Timestep {i+1}, simulation')\n",
    "    ax.get_xaxis().set_ticks([])\n",
    "    ax.get_yaxis().set_ticks([])\n",
    "    \n",
    "for i, (ax, image) in enumerate(zip(axs2.flatten(), predict_images)):\n",
    "    # Convert the simulation observation to images.\n",
    "    img = phyre.observations_to_float_rgb(image)\n",
    "    ax.imshow(img)\n",
    "    \n",
    "    ax.title.set_text(f'Timestep {i+1}, prediction')\n",
    "    ax.get_xaxis().set_ticks([])\n",
    "    ax.get_yaxis().set_ticks([])"
   ]
  },
  {
   "cell_type": "markdown",
   "metadata": {},
   "source": [
    "### 4. Evaluate the Agent"
   ]
  },
  {
   "cell_type": "markdown",
   "metadata": {},
   "source": [
    "#### 4.1 Percentage of solved tasks per number of attempts"
   ]
  },
  {
   "cell_type": "code",
   "execution_count": 11,
   "metadata": {},
   "outputs": [
    {
     "name": "stdout",
     "output_type": "stream",
     "text": [
      "0.004784828735864721\n"
     ]
    }
   ],
   "source": [
    "loss = agent.get_test_loss(state, test, tier)\n",
    "print(loss)\n"
   ]
  },
  {
   "cell_type": "markdown",
   "metadata": {},
   "source": [
    "#### 4.2 AUCESS"
   ]
  },
  {
   "cell_type": "code",
   "execution_count": 15,
   "metadata": {},
   "outputs": [],
   "source": [
    "model  = state['model']\n",
    "\n",
    "# save\n",
    "savePath = \"./model/test_model_cross.pth\"\n",
    "torch.save(model.state_dict(), savePath)\n",
    "\n",
    "# load\n",
    "#new_model = TestModel()\n",
    "#new_model.load_state_dict(torch.load(\"./output/test_model.pth\"))"
   ]
  },
  {
   "cell_type": "code",
   "execution_count": null,
   "metadata": {},
   "outputs": [],
   "source": []
  },
  {
   "cell_type": "code",
   "execution_count": null,
   "metadata": {},
   "outputs": [],
   "source": []
  },
  {
   "cell_type": "code",
   "execution_count": null,
   "metadata": {},
   "outputs": [],
   "source": []
  }
 ],
 "metadata": {
  "kernelspec": {
   "display_name": "Python 3",
   "language": "python",
   "name": "python3"
  },
  "language_info": {
   "codemirror_mode": {
    "name": "ipython",
    "version": 3
   },
   "file_extension": ".py",
   "mimetype": "text/x-python",
   "name": "python",
   "nbconvert_exporter": "python",
   "pygments_lexer": "ipython3",
   "version": "3.6.9"
  }
 },
 "nbformat": 4,
 "nbformat_minor": 4
}
