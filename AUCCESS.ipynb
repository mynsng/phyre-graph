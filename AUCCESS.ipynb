{
 "cells": [
  {
   "cell_type": "code",
   "execution_count": 1,
   "metadata": {},
   "outputs": [],
   "source": [
    "import matplotlib.pyplot as plt\n",
    "import numpy as np\n",
    "import random\n",
    "import phyre\n",
    "import torch\n",
    "import logging\n",
    "mpl_logger = logging.getLogger('matplotlib')\n",
    "mpl_logger.setLevel(logging.WARNING) "
   ]
  },
  {
   "cell_type": "code",
   "execution_count": 2,
   "metadata": {},
   "outputs": [],
   "source": [
    "tier = 'ball'\n",
    "eval_setup = 'ball_within_template'\n",
    "fold_id = 0\n",
    "random.seed(0)"
   ]
  },
  {
   "cell_type": "code",
   "execution_count": 3,
   "metadata": {},
   "outputs": [
    {
     "name": "stdout",
     "output_type": "stream",
     "text": [
      "Size of resulting splits:\n",
      " train: 1600 \n",
      " dev: 400 \n",
      " test: 500\n"
     ]
    }
   ],
   "source": [
    "train, dev, test = phyre.get_fold(eval_setup, fold_id)\n",
    "print('Size of resulting splits:\\n train:', len(train), '\\n dev:',\n",
    "      len(dev), '\\n test:', len(test))"
   ]
  },
  {
   "cell_type": "code",
   "execution_count": 4,
   "metadata": {},
   "outputs": [
    {
     "name": "stdout",
     "output_type": "stream",
     "text": [
      "cache.action_array shape: (100000, 3)\n"
     ]
    }
   ],
   "source": [
    "cache = phyre.get_default_100k_cache(tier)\n",
    "print('cache.action_array shape:', cache.action_array.shape)"
   ]
  },
  {
   "cell_type": "code",
   "execution_count": 5,
   "metadata": {},
   "outputs": [
    {
     "name": "stderr",
     "output_type": "stream",
     "text": [
      "DEBUG:root:test\n"
     ]
    }
   ],
   "source": [
    "from dqn import DQNAgent"
   ]
  },
  {
   "cell_type": "code",
   "execution_count": 6,
   "metadata": {},
   "outputs": [],
   "source": [
    "agent = DQNAgent()"
   ]
  },
  {
   "cell_type": "code",
   "execution_count": 7,
   "metadata": {},
   "outputs": [],
   "source": [
    "#model = agent.build_model()\n",
    "#new_model = TestModel()\n",
    "#model.load_state_dict(torch.load(\"./model/16_512_within.pth\"))\n",
    "#state = dict(model =model, cache = cache)"
   ]
  },
  {
   "cell_type": "code",
   "execution_count": 8,
   "metadata": {},
   "outputs": [
    {
     "name": "stderr",
     "output_type": "stream",
     "text": [
      "INFO:root:Preprocess the training data\n",
      "INFO:root:Train set: size=117005756, solved_ratio=1.71%\n",
      "INFO:root:Create evaluation data from train & dev\n",
      "INFO:root:Start initializing the Model\n",
      "INFO:root:Start Training the Model\n",
      "/home/mynsng/anaconda3/envs/phyre/lib/python3.6/site-packages/torch/nn/_reduction.py:43: UserWarning: size_average and reduce args will be deprecated, please use reduction='none' instead.\n",
      "  warnings.warn(warning.format(ret))\n",
      "INFO:root:Start eval\n",
      "INFO:root:__log__:{'batch_id': 6, 'train_auccess': 0.01129558913401568, 'dev_auccess': 0.042860507133183505}\n"
     ]
    }
   ],
   "source": [
    "state, statistics = agent.train(cache, train, tier, dev)"
   ]
  },
  {
   "cell_type": "code",
   "execution_count": 9,
   "metadata": {},
   "outputs": [],
   "source": [
    "evaluator = agent.eval(state, test, tier)"
   ]
  },
  {
   "cell_type": "code",
   "execution_count": 10,
   "metadata": {},
   "outputs": [
    {
     "name": "stdout",
     "output_type": "stream",
     "text": [
      "AUCESS after 100 attempts on test set 0.43218478948276673\n"
     ]
    }
   ],
   "source": [
    "print('AUCESS after 100 attempts on test set', evaluator.get_aucess())"
   ]
  },
  {
   "cell_type": "code",
   "execution_count": null,
   "metadata": {},
   "outputs": [],
   "source": []
  }
 ],
 "metadata": {
  "kernelspec": {
   "display_name": "Python 3",
   "language": "python",
   "name": "python3"
  },
  "language_info": {
   "codemirror_mode": {
    "name": "ipython",
    "version": 3
   },
   "file_extension": ".py",
   "mimetype": "text/x-python",
   "name": "python",
   "nbconvert_exporter": "python",
   "pygments_lexer": "ipython3",
   "version": "3.6.9"
  }
 },
 "nbformat": 4,
 "nbformat_minor": 4
}
